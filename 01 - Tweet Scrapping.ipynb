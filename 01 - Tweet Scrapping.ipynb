{
 "cells": [
  {
   "cell_type": "markdown",
   "metadata": {
    "colab_type": "text",
    "id": "pBCO7d-ER5v4"
   },
   "source": [
    "## Scrape Potentially Depressive Tweets from Twitter\n",
    "\n",
    "We would like to gather data from twitter based on depressive hashtags, such as #depressed, #depression, #loneliness and #hopelessness\n",
    "Then apply various techniques to remove non-depressive messages\n",
    "The result of this script will provide a dataset that contains a filtered collection of tweets that are potentially depressive. The script also removes all hashtags from the tweets, so that the machine learning model cannot cheat by just looking for depressive hashtags.\n",
    "The final dataset will be manually reviewed and labelled, so that both the depressive and non-depressive messages within it will be correctly marked."
   ]
  },
  {
   "cell_type": "code",
   "execution_count": 2,
   "metadata": {
    "colab": {
     "base_uri": "https://localhost:8080/",
     "height": 34
    },
    "colab_type": "code",
    "id": "dfRGaGRcSP-i",
    "outputId": "f3c47b2b-cd23-414c-9322-0572c40aaa69"
   },
   "outputs": [
    {
     "name": "stdout",
     "output_type": "stream",
     "text": [
      "Collecting nest_asyncio\n",
      "  Downloading nest_asyncio-1.4.0-py3-none-any.whl (5.2 kB)\n",
      "Installing collected packages: nest-asyncio\n",
      "Successfully installed nest-asyncio-1.4.0\n"
     ]
    }
   ],
   "source": [
    "# !pip install nest_asyncio\n",
    "# !pip install twint\n",
    "# !pip install langdetect \n",
    "# !pip install googletrans"
   ]
  },
  {
   "cell_type": "code",
   "execution_count": 1,
   "metadata": {
    "colab": {},
    "colab_type": "code",
    "id": "Qy6IcazTQzsd"
   },
   "outputs": [],
   "source": [
    "import nest_asyncio\n",
    "nest_asyncio.apply()\n",
    "import pandas as pd\n",
    "import twint\n",
    "import re\n",
    "from datetime import datetime, timedelta\n",
    "import random\n",
    "import json\n",
    "import ast\n",
    "from langdetect import detect\n",
    "from googletrans import Translator\n",
    "# from textblob import TextBlob\n",
    "\n",
    "\n",
    "# from google.colab import drive\n",
    "# drive.mount('/content/gdrive')"
   ]
  },
  {
   "cell_type": "code",
   "execution_count": null,
   "metadata": {},
   "outputs": [],
   "source": []
  },
  {
   "cell_type": "code",
   "execution_count": null,
   "metadata": {},
   "outputs": [],
   "source": [
    "\n",
    "       \n"
   ]
  },
  {
   "cell_type": "code",
   "execution_count": 16,
   "metadata": {
    "colab": {
     "base_uri": "https://localhost:8080/",
     "height": 102
    },
    "colab_type": "code",
    "id": "IMfG9HzVgRxI",
    "outputId": "3d5a98d6-bb73-499f-d380-06f100eed131"
   },
   "outputs": [
    {
     "name": "stdout",
     "output_type": "stream",
     "text": [
      "34488 #vaccineswork 2020-02-18 05:04:11 780 Groningen\n",
      "34908 #antivaxx 2020-01-31 19:03:27 420 Maastricht\n"
     ]
    },
    {
     "name": "stderr",
     "output_type": "stream",
     "text": [
      "CRITICAL:root:twint.output:checkData:copyrightedTweet\n"
     ]
    },
    {
     "name": "stdout",
     "output_type": "stream",
     "text": [
      "35307 #learntherisk  2020-05-10 09:43:43 399 Utrecht\n",
      "35722 #learntherisk  2020-01-21 05:52:14 416 Maastricht\n",
      "36135 #antivaxx 2020-04-16 16:06:01 413 Eindhoven\n",
      "36549 #vaccineswork 2020-07-08 15:52:38 414 Rotterdam\n",
      "36901 #learntherisk  2020-06-05 07:51:19 400 Rotterdam\n",
      "37140 #learntherisk  2020-01-29 20:15:21 415 Maastricht\n",
      "37540 #vaccineswork 2020-02-05 05:41:22 400 Amsterdam\n",
      "37755 #antivaxx 2020-04-23 18:21:48 413 Utrecht\n",
      "38087 #learntherisk  2020-07-15 08:49:52 407 Eindhoven\n",
      "38503 #vaccines 2020-04-07 04:34:02 416 Rotterdam\n",
      "38906 #antivax 2020-06-02 06:52:59 403 Amsterdam\n",
      "39308 #vaccineinjury 2020-04-12 18:21:23 406 Amsterdam\n",
      "39708 #vaxxhappened 2020-05-17 07:44:42 400 Utrecht\n",
      "40068 #vaccines 2020-01-17 23:50:08 400 Amsterdam\n",
      "40457 #learntherisk  2020-05-19 09:06:33 419 Rotterdam\n",
      "40857 #antivax 2020-03-17 07:47:52 400 Den Haag\n",
      "41272 #billgates 2020-04-24 12:16:18 415 Eindhoven\n",
      "41685 #vaccine 2020-04-28 03:43:06 413 Utrecht\n",
      "42085 #learntherisk  2020-04-23 16:51:00 400 Den Haag\n",
      "42099 #vaxxhappened 2020-01-07 00:15:30 14 Enschede\n",
      "42499 #vaccineswork 2020-04-29 20:09:59 400 Enschede\n",
      "42721 #learntherisk  2020-05-30 18:06:27 400 Groningen\n",
      "43121 #antivax 2020-06-13 07:25:51 400 Utrecht\n",
      "43531 #antivax 2020-01-05 13:49:24 410 Maastricht\n",
      "43830 #antivax 2020-05-17 23:36:15 400 Groningen\n",
      "44230 #antivaxx 2020-04-02 06:24:16 400 Eindhoven\n",
      "44630 #vaccination 2020-02-29 05:37:38 400 Enschede\n",
      "44744 #antivax 2020-05-19 05:30:08 400 Eindhoven\n",
      "45144 #billgates 2020-01-08 12:55:04 400 Maastricht\n",
      "45160 #vaccines 2020-07-01 21:31:17 16 Utrecht\n",
      "45560 #antivax 2020-06-24 20:15:33 400 Amsterdam\n",
      "45979 #vaccines 2020-07-23 19:08:54 419 Groningen\n",
      "46175 #antivaxx 2020-06-23 17:03:42 400 Eindhoven\n",
      "46335 #antivaxx 2020-06-30 00:57:26 400 Den Haag\n",
      "46339 #vaxxhappened 2020-05-10 14:53:50 400 Enschede\n",
      "46751 #vaccine 2020-04-01 19:04:30 412 Den Haag\n",
      "47012 #learntherisk  2020-04-12 03:57:26 400 Maastricht\n",
      "47013 #learntherisk  2020-05-20 12:58:07 400 Groningen\n",
      "47430 #vaccineswork 2020-01-23 20:41:32 419 Eindhoven\n",
      "47652 #antivax 2020-07-02 15:49:49 411 Maastricht\n",
      "48061 #billgates 2020-06-30 18:21:47 409 Eindhoven\n",
      "48451 #vaxxhappened 2020-02-21 08:55:10 400 Maastricht\n",
      "48817 #learntherisk  2020-03-17 20:56:18 400 Rotterdam\n",
      "49232 #vaccine 2020-01-30 04:17:46 415 Rotterdam\n",
      "49637 #vaccine 2020-04-26 03:36:47 405 Enschede\n",
      "50044 #vaccines 2020-03-17 16:43:38 419 Den Haag\n",
      "50214 #billgates 2020-01-11 17:58:28 419 Maastricht\n",
      "50619 #vaccines 2020-06-07 13:04:32 414 Utrecht\n",
      "50652 #vaccineinjury 2020-05-27 14:39:55 79 Amsterdam\n",
      "50929 #vaccineinjury 2020-01-19 21:09:48 407 Rotterdam\n",
      "51329 #vaccine 2020-02-13 22:42:48 400 Utrecht\n",
      "51729 #vaccines 2020-04-23 09:01:17 414 Rotterdam\n",
      "51773 #vaccineinjury 2020-06-06 07:26:37 272 Groningen\n",
      "52191 #billgates 2020-02-12 21:06:43 418 Utrecht\n",
      "52590 #vaccineswork 2020-03-31 01:56:10 400 Enschede\n",
      "52970 #vaccination 2020-02-17 21:18:42 400 Groningen\n",
      "53333 #learntherisk  2020-02-24 15:12:37 410 Utrecht\n",
      "53345 #vaxxhappened 2020-06-23 19:51:46 400 Utrecht\n",
      "53440 #learntherisk  2020-02-20 09:10:44 400 Utrecht\n",
      "53840 #vaccineswork 2020-03-21 14:56:04 400 Utrecht\n",
      "54038 #vaccineswork 2020-03-29 19:58:27 400 Maastricht\n",
      "54435 #vaccineswork 2020-01-14 18:20:05 400 Maastricht\n",
      "54807 #antivaxx 2020-07-14 04:46:47 400 Maastricht\n",
      "55110 #vaccineinjury 2020-02-07 08:52:26 418 Maastricht\n",
      "55409 #vaccineswork 2020-07-05 14:22:46 414 Enschede\n",
      "55825 #billgates 2020-03-02 10:13:32 416 Enschede\n",
      "56211 #vaccination 2020-04-04 04:49:27 400 Maastricht\n",
      "56591 #antivax 2020-07-21 11:11:33 400 Maastricht\n",
      "56591 #vaccineinjury 2020-06-04 06:27:34 244 Eindhoven\n",
      "56868 #vaxxhappened 2020-03-07 14:54:51 400 Rotterdam\n",
      "57270 #vaccine 2020-07-06 04:48:40 411 Enschede\n",
      "57407 #billgates 2020-02-05 00:38:27 137 Den Haag\n",
      "57473 #antivaxx 2020-04-04 14:50:06 400 Eindhoven\n",
      "57761 #antivax 2020-05-26 03:53:43 400 Rotterdam\n",
      "58160 #vaccine 2020-04-18 10:24:23 405 Enschede\n",
      "58572 #billgates 2020-05-04 06:15:24 412 Amsterdam\n",
      "58850 #vaccineinjury 2020-05-04 18:56:39 410 Eindhoven\n",
      "59250 #vaccineswork 2020-03-10 07:47:46 400 Amsterdam\n",
      "59250 #learntherisk  2020-01-23 23:16:10 417 Maastricht\n"
     ]
    },
    {
     "ename": "KeyboardInterrupt",
     "evalue": "",
     "output_type": "error",
     "traceback": [
      "\u001b[1;31m---------------------------------------------------------------------------\u001b[0m",
      "\u001b[1;31mKeyboardInterrupt\u001b[0m                         Traceback (most recent call last)",
      "\u001b[1;32m<ipython-input-16-ecdf7ce519d0>\u001b[0m in \u001b[0;36m<module>\u001b[1;34m\u001b[0m\n\u001b[0;32m     38\u001b[0m     \u001b[0mc\u001b[0m\u001b[1;33m.\u001b[0m\u001b[0mLowercase\u001b[0m  \u001b[1;33m=\u001b[0m \u001b[1;32mTrue\u001b[0m\u001b[1;33m\u001b[0m\u001b[0m\n\u001b[0;32m     39\u001b[0m     \u001b[0mc\u001b[0m\u001b[1;33m.\u001b[0m\u001b[0mFilter_retweets\u001b[0m \u001b[1;33m=\u001b[0m \u001b[1;32mTrue\u001b[0m\u001b[1;33m\u001b[0m\u001b[0m\n\u001b[1;32m---> 40\u001b[1;33m     \u001b[0mtwint\u001b[0m\u001b[1;33m.\u001b[0m\u001b[0mrun\u001b[0m\u001b[1;33m.\u001b[0m\u001b[0mSearch\u001b[0m\u001b[1;33m(\u001b[0m\u001b[0mc\u001b[0m\u001b[1;33m)\u001b[0m\u001b[1;33m\u001b[0m\u001b[0m\n\u001b[0m\u001b[0;32m     41\u001b[0m \u001b[1;33m\u001b[0m\u001b[0m\n\u001b[0;32m     42\u001b[0m     \u001b[0mdff\u001b[0m \u001b[1;33m=\u001b[0m \u001b[0mtwint\u001b[0m\u001b[1;33m.\u001b[0m\u001b[0mstorage\u001b[0m\u001b[1;33m.\u001b[0m\u001b[0mpanda\u001b[0m\u001b[1;33m.\u001b[0m\u001b[0mTweets_df\u001b[0m\u001b[1;33m\u001b[0m\u001b[0m\n",
      "\u001b[1;32m~\\AppData\\Local\\Continuum\\anaconda2\\lib\\site-packages\\twint\\run.py\u001b[0m in \u001b[0;36mSearch\u001b[1;34m(config, callback)\u001b[0m\n\u001b[0;32m    325\u001b[0m     \u001b[0mconfig\u001b[0m\u001b[1;33m.\u001b[0m\u001b[0mProfile\u001b[0m \u001b[1;33m=\u001b[0m \u001b[1;32mFalse\u001b[0m\u001b[1;33m\u001b[0m\u001b[0m\n\u001b[0;32m    326\u001b[0m     \u001b[0mconfig\u001b[0m\u001b[1;33m.\u001b[0m\u001b[0mProfile_full\u001b[0m \u001b[1;33m=\u001b[0m \u001b[1;32mFalse\u001b[0m\u001b[1;33m\u001b[0m\u001b[0m\n\u001b[1;32m--> 327\u001b[1;33m     \u001b[0mrun\u001b[0m\u001b[1;33m(\u001b[0m\u001b[0mconfig\u001b[0m\u001b[1;33m,\u001b[0m \u001b[0mcallback\u001b[0m\u001b[1;33m)\u001b[0m\u001b[1;33m\u001b[0m\u001b[0m\n\u001b[0m\u001b[0;32m    328\u001b[0m     \u001b[1;32mif\u001b[0m \u001b[0mconfig\u001b[0m\u001b[1;33m.\u001b[0m\u001b[0mPandas_au\u001b[0m\u001b[1;33m:\u001b[0m\u001b[1;33m\u001b[0m\u001b[0m\n\u001b[0;32m    329\u001b[0m         \u001b[0mstorage\u001b[0m\u001b[1;33m.\u001b[0m\u001b[0mpanda\u001b[0m\u001b[1;33m.\u001b[0m\u001b[0m_autoget\u001b[0m\u001b[1;33m(\u001b[0m\u001b[1;34m\"tweet\"\u001b[0m\u001b[1;33m)\u001b[0m\u001b[1;33m\u001b[0m\u001b[0m\n",
      "\u001b[1;32m~\\AppData\\Local\\Continuum\\anaconda2\\lib\\site-packages\\twint\\run.py\u001b[0m in \u001b[0;36mrun\u001b[1;34m(config, callback)\u001b[0m\n\u001b[0;32m    224\u001b[0m         \u001b[1;32mraise\u001b[0m\u001b[1;33m\u001b[0m\u001b[0m\n\u001b[0;32m    225\u001b[0m \u001b[1;33m\u001b[0m\u001b[0m\n\u001b[1;32m--> 226\u001b[1;33m     \u001b[0mget_event_loop\u001b[0m\u001b[1;33m(\u001b[0m\u001b[1;33m)\u001b[0m\u001b[1;33m.\u001b[0m\u001b[0mrun_until_complete\u001b[0m\u001b[1;33m(\u001b[0m\u001b[0mTwint\u001b[0m\u001b[1;33m(\u001b[0m\u001b[0mconfig\u001b[0m\u001b[1;33m)\u001b[0m\u001b[1;33m.\u001b[0m\u001b[0mmain\u001b[0m\u001b[1;33m(\u001b[0m\u001b[0mcallback\u001b[0m\u001b[1;33m)\u001b[0m\u001b[1;33m)\u001b[0m\u001b[1;33m\u001b[0m\u001b[0m\n\u001b[0m\u001b[0;32m    227\u001b[0m \u001b[1;33m\u001b[0m\u001b[0m\n\u001b[0;32m    228\u001b[0m \u001b[1;32mdef\u001b[0m \u001b[0mFavorites\u001b[0m\u001b[1;33m(\u001b[0m\u001b[0mconfig\u001b[0m\u001b[1;33m)\u001b[0m\u001b[1;33m:\u001b[0m\u001b[1;33m\u001b[0m\u001b[0m\n",
      "\u001b[1;32m~\\AppData\\Local\\Continuum\\anaconda2\\lib\\site-packages\\nest_asyncio.py\u001b[0m in \u001b[0;36mrun_until_complete\u001b[1;34m(self, future)\u001b[0m\n\u001b[0;32m     87\u001b[0m                 \u001b[0mf\u001b[0m\u001b[1;33m.\u001b[0m\u001b[0m_log_destroy_pending\u001b[0m \u001b[1;33m=\u001b[0m \u001b[1;32mFalse\u001b[0m\u001b[1;33m\u001b[0m\u001b[0m\n\u001b[0;32m     88\u001b[0m             \u001b[1;32mwhile\u001b[0m \u001b[1;32mnot\u001b[0m \u001b[0mf\u001b[0m\u001b[1;33m.\u001b[0m\u001b[0mdone\u001b[0m\u001b[1;33m(\u001b[0m\u001b[1;33m)\u001b[0m\u001b[1;33m:\u001b[0m\u001b[1;33m\u001b[0m\u001b[0m\n\u001b[1;32m---> 89\u001b[1;33m                 \u001b[0mself\u001b[0m\u001b[1;33m.\u001b[0m\u001b[0m_run_once\u001b[0m\u001b[1;33m(\u001b[0m\u001b[1;33m)\u001b[0m\u001b[1;33m\u001b[0m\u001b[0m\n\u001b[0m\u001b[0;32m     90\u001b[0m                 \u001b[1;32mif\u001b[0m \u001b[0mself\u001b[0m\u001b[1;33m.\u001b[0m\u001b[0m_stopping\u001b[0m\u001b[1;33m:\u001b[0m\u001b[1;33m\u001b[0m\u001b[0m\n\u001b[0;32m     91\u001b[0m                     \u001b[1;32mbreak\u001b[0m\u001b[1;33m\u001b[0m\u001b[0m\n",
      "\u001b[1;32m~\\AppData\\Local\\Continuum\\anaconda2\\lib\\site-packages\\nest_asyncio.py\u001b[0m in \u001b[0;36m_run_once\u001b[1;34m(self)\u001b[0m\n\u001b[0;32m    111\u001b[0m             \u001b[1;32melse\u001b[0m \u001b[0mmin\u001b[0m\u001b[1;33m(\u001b[0m\u001b[0mmax\u001b[0m\u001b[1;33m(\u001b[0m\u001b[1;36m0\u001b[0m\u001b[1;33m,\u001b[0m \u001b[0mscheduled\u001b[0m\u001b[1;33m[\u001b[0m\u001b[1;36m0\u001b[0m\u001b[1;33m]\u001b[0m\u001b[1;33m.\u001b[0m\u001b[0m_when\u001b[0m \u001b[1;33m-\u001b[0m \u001b[0mnow\u001b[0m\u001b[1;33m)\u001b[0m\u001b[1;33m,\u001b[0m \u001b[1;36m10\u001b[0m\u001b[1;33m)\u001b[0m \u001b[1;32mif\u001b[0m \u001b[0mscheduled\u001b[0m\u001b[0;31m \u001b[0m\u001b[0;31m\\\u001b[0m\u001b[1;33m\u001b[0m\u001b[0m\n\u001b[0;32m    112\u001b[0m             \u001b[1;32melse\u001b[0m \u001b[1;32mNone\u001b[0m\u001b[1;33m\u001b[0m\u001b[0m\n\u001b[1;32m--> 113\u001b[1;33m         \u001b[0mevent_list\u001b[0m \u001b[1;33m=\u001b[0m \u001b[0mself\u001b[0m\u001b[1;33m.\u001b[0m\u001b[0m_selector\u001b[0m\u001b[1;33m.\u001b[0m\u001b[0mselect\u001b[0m\u001b[1;33m(\u001b[0m\u001b[0mtimeout\u001b[0m\u001b[1;33m)\u001b[0m\u001b[1;33m\u001b[0m\u001b[0m\n\u001b[0m\u001b[0;32m    114\u001b[0m         \u001b[0mself\u001b[0m\u001b[1;33m.\u001b[0m\u001b[0m_process_events\u001b[0m\u001b[1;33m(\u001b[0m\u001b[0mevent_list\u001b[0m\u001b[1;33m)\u001b[0m\u001b[1;33m\u001b[0m\u001b[0m\n\u001b[0;32m    115\u001b[0m \u001b[1;33m\u001b[0m\u001b[0m\n",
      "\u001b[1;32m~\\AppData\\Local\\Continuum\\anaconda2\\lib\\selectors.py\u001b[0m in \u001b[0;36mselect\u001b[1;34m(self, timeout)\u001b[0m\n\u001b[0;32m    321\u001b[0m         \u001b[0mready\u001b[0m \u001b[1;33m=\u001b[0m \u001b[1;33m[\u001b[0m\u001b[1;33m]\u001b[0m\u001b[1;33m\u001b[0m\u001b[0m\n\u001b[0;32m    322\u001b[0m         \u001b[1;32mtry\u001b[0m\u001b[1;33m:\u001b[0m\u001b[1;33m\u001b[0m\u001b[0m\n\u001b[1;32m--> 323\u001b[1;33m             \u001b[0mr\u001b[0m\u001b[1;33m,\u001b[0m \u001b[0mw\u001b[0m\u001b[1;33m,\u001b[0m \u001b[0m_\u001b[0m \u001b[1;33m=\u001b[0m \u001b[0mself\u001b[0m\u001b[1;33m.\u001b[0m\u001b[0m_select\u001b[0m\u001b[1;33m(\u001b[0m\u001b[0mself\u001b[0m\u001b[1;33m.\u001b[0m\u001b[0m_readers\u001b[0m\u001b[1;33m,\u001b[0m \u001b[0mself\u001b[0m\u001b[1;33m.\u001b[0m\u001b[0m_writers\u001b[0m\u001b[1;33m,\u001b[0m \u001b[1;33m[\u001b[0m\u001b[1;33m]\u001b[0m\u001b[1;33m,\u001b[0m \u001b[0mtimeout\u001b[0m\u001b[1;33m)\u001b[0m\u001b[1;33m\u001b[0m\u001b[0m\n\u001b[0m\u001b[0;32m    324\u001b[0m         \u001b[1;32mexcept\u001b[0m \u001b[0mInterruptedError\u001b[0m\u001b[1;33m:\u001b[0m\u001b[1;33m\u001b[0m\u001b[0m\n\u001b[0;32m    325\u001b[0m             \u001b[1;32mreturn\u001b[0m \u001b[0mready\u001b[0m\u001b[1;33m\u001b[0m\u001b[0m\n",
      "\u001b[1;32m~\\AppData\\Local\\Continuum\\anaconda2\\lib\\selectors.py\u001b[0m in \u001b[0;36m_select\u001b[1;34m(self, r, w, _, timeout)\u001b[0m\n\u001b[0;32m    312\u001b[0m     \u001b[1;32mif\u001b[0m \u001b[0msys\u001b[0m\u001b[1;33m.\u001b[0m\u001b[0mplatform\u001b[0m \u001b[1;33m==\u001b[0m \u001b[1;34m'win32'\u001b[0m\u001b[1;33m:\u001b[0m\u001b[1;33m\u001b[0m\u001b[0m\n\u001b[0;32m    313\u001b[0m         \u001b[1;32mdef\u001b[0m \u001b[0m_select\u001b[0m\u001b[1;33m(\u001b[0m\u001b[0mself\u001b[0m\u001b[1;33m,\u001b[0m \u001b[0mr\u001b[0m\u001b[1;33m,\u001b[0m \u001b[0mw\u001b[0m\u001b[1;33m,\u001b[0m \u001b[0m_\u001b[0m\u001b[1;33m,\u001b[0m \u001b[0mtimeout\u001b[0m\u001b[1;33m=\u001b[0m\u001b[1;32mNone\u001b[0m\u001b[1;33m)\u001b[0m\u001b[1;33m:\u001b[0m\u001b[1;33m\u001b[0m\u001b[0m\n\u001b[1;32m--> 314\u001b[1;33m             \u001b[0mr\u001b[0m\u001b[1;33m,\u001b[0m \u001b[0mw\u001b[0m\u001b[1;33m,\u001b[0m \u001b[0mx\u001b[0m \u001b[1;33m=\u001b[0m \u001b[0mselect\u001b[0m\u001b[1;33m.\u001b[0m\u001b[0mselect\u001b[0m\u001b[1;33m(\u001b[0m\u001b[0mr\u001b[0m\u001b[1;33m,\u001b[0m \u001b[0mw\u001b[0m\u001b[1;33m,\u001b[0m \u001b[0mw\u001b[0m\u001b[1;33m,\u001b[0m \u001b[0mtimeout\u001b[0m\u001b[1;33m)\u001b[0m\u001b[1;33m\u001b[0m\u001b[0m\n\u001b[0m\u001b[0;32m    315\u001b[0m             \u001b[1;32mreturn\u001b[0m \u001b[0mr\u001b[0m\u001b[1;33m,\u001b[0m \u001b[0mw\u001b[0m \u001b[1;33m+\u001b[0m \u001b[0mx\u001b[0m\u001b[1;33m,\u001b[0m \u001b[1;33m[\u001b[0m\u001b[1;33m]\u001b[0m\u001b[1;33m\u001b[0m\u001b[0m\n\u001b[0;32m    316\u001b[0m     \u001b[1;32melse\u001b[0m\u001b[1;33m:\u001b[0m\u001b[1;33m\u001b[0m\u001b[0m\n",
      "\u001b[1;31mKeyboardInterrupt\u001b[0m: "
     ]
    }
   ],
   "source": [
    "\n",
    "topics = ['#vaccine','#antivaxx','#vaxxhappened','#antivax','#vaccines','#billgates','#vaccination','#vaccineswork','#vaccineinjury','#learntherisk ']\n",
    "    \n",
    "ntweets = 0\n",
    "columns = ['id', 'created_at', 'date','tweet', 'hashtags',  'username', 'nlikes', 'nreplies','nretweets', 'search']\n",
    "df = pd.DataFrame(columns = columns)   \n",
    "\n",
    "df = pd.read_csv('vaccine__tweets.csv')  \n",
    "\n",
    "\n",
    "coords = [{'city':'Amsterdam', 'lat': 52.4, 'lon': 4.89 },\n",
    "          {'city':'Rotterdam', 'lat': 51.9, 'lon': 4.47 },\n",
    "          {'city':'Den Haag',  'lat': 52.1, 'lon': 4.30 },\n",
    "          {'city':'Utrecht',   'lat': 52.1, 'lon': 5.12 },\n",
    "          {'city':'Eindhoven', 'lat': 51.4, 'lon': 5.4 },\n",
    "          {'city':'Groningen', 'lat': 53.2, 'lon': 6.5 },\n",
    "          {'city':'Enschede', 'lat': 52.2, 'lon': 6.8 },\n",
    "          {'city':'Maastricht', 'lat': 50.85, 'lon': 5.6 }]\n",
    "\n",
    "while (ntweets < 575000):\n",
    "    \n",
    "    start_date = datetime.fromtimestamp(random.randint(int(datetime.timestamp(datetime(2020,1,1))),int(datetime.timestamp(datetime.now()))))\n",
    "    topic = topics[random.randint(0,len(topics))-1]\n",
    "    city =  coords[random.randint(0,len(coords))-1]\n",
    "    lat = city['lat']\n",
    "    lon = city['lon']\n",
    "    \n",
    "    c = twint.Config()\n",
    "#     c.Geo = str(lat)+','+str(lon)+',20km'\n",
    "    c.Until = start_date.strftime(\"%Y-%m-%d %H:%M:%S\")\n",
    "#     c.Format = \"Tweet id: {id} | Tweet: {tweet}\"\n",
    "    c.Search = topic\n",
    "    c.Limit = 400\n",
    "#     c.Lang = 'nl'\n",
    "    c.Store_Object = True\n",
    "    c.Pandas = True\n",
    "    c.Hide_output = True\n",
    "    c.Stats = True\n",
    "    c.Lowercase  = True\n",
    "    c.Filter_retweets = True\n",
    "    twint.run.Search(c)\n",
    "\n",
    "    dff = twint.storage.panda.Tweets_df\n",
    "    \n",
    "    \n",
    "    if len(dff) > 0:\n",
    "        \n",
    "#         dff['city'] = city['city']\n",
    "#         dff['hashtags'] = dff.hashtags.apply(lambda x: x if topic in x else x + [topic])\n",
    "        df = df.append(dff[columns])\n",
    "        \n",
    "    df.loc[df[['id']].drop_duplicates().index].to_csv('vaccine__tweets.csv',index = False)\n",
    "    \n",
    "    ntweets = len(df.id.unique())\n",
    "    \n",
    "    print(ntweets,topic,start_date,len(dff),city['city'])\n",
    "    \n",
    "df =df.reset_index(drop= True)  \n",
    "\n"
   ]
  },
  {
   "cell_type": "code",
   "execution_count": 17,
   "metadata": {},
   "outputs": [
    {
     "data": {
      "text/html": [
       "<div>\n",
       "<style scoped>\n",
       "    .dataframe tbody tr th:only-of-type {\n",
       "        vertical-align: middle;\n",
       "    }\n",
       "\n",
       "    .dataframe tbody tr th {\n",
       "        vertical-align: top;\n",
       "    }\n",
       "\n",
       "    .dataframe thead th {\n",
       "        text-align: right;\n",
       "    }\n",
       "</style>\n",
       "<table border=\"1\" class=\"dataframe\">\n",
       "  <thead>\n",
       "    <tr style=\"text-align: right;\">\n",
       "      <th></th>\n",
       "      <th>id</th>\n",
       "      <th>created_at</th>\n",
       "      <th>date</th>\n",
       "      <th>tweet</th>\n",
       "      <th>hashtags</th>\n",
       "      <th>username</th>\n",
       "      <th>nlikes</th>\n",
       "      <th>nreplies</th>\n",
       "      <th>nretweets</th>\n",
       "      <th>search</th>\n",
       "      <th>lang</th>\n",
       "    </tr>\n",
       "  </thead>\n",
       "  <tbody>\n",
       "    <tr>\n",
       "      <th>0</th>\n",
       "      <td>1267163261960630280</td>\n",
       "      <td>1590950239000</td>\n",
       "      <td>2020-05-31 13:37:19</td>\n",
       "      <td>A two-phase #STUDY provided new evidence suppo...</td>\n",
       "      <td>['#study', '#thimerosal', '#vaccines', '#autis...</td>\n",
       "      <td>LotusOak2</td>\n",
       "      <td>22</td>\n",
       "      <td>1</td>\n",
       "      <td>23</td>\n",
       "      <td>#vaccineinjury</td>\n",
       "      <td>en</td>\n",
       "    </tr>\n",
       "    <tr>\n",
       "      <th>1</th>\n",
       "      <td>1259260353977954306</td>\n",
       "      <td>1589066038000</td>\n",
       "      <td>2020-05-09 18:13:58</td>\n",
       "      <td>New #STUDY: Infectious #vaccine-derived rubell...</td>\n",
       "      <td>['#study', '#vaccine', '#learntherisk', '#vacc...</td>\n",
       "      <td>LotusOak2</td>\n",
       "      <td>6</td>\n",
       "      <td>0</td>\n",
       "      <td>7</td>\n",
       "      <td>#learntherisk</td>\n",
       "      <td>en</td>\n",
       "    </tr>\n",
       "    <tr>\n",
       "      <th>2</th>\n",
       "      <td>1219407996498993153</td>\n",
       "      <td>1579564496000</td>\n",
       "      <td>2020-01-20 18:54:56</td>\n",
       "      <td>\"I was paralyzed from the waist down in 2001 f...</td>\n",
       "      <td>['#vaccine', '#vaccineinjury', '#learntherisk']</td>\n",
       "      <td>LotusOak2</td>\n",
       "      <td>25</td>\n",
       "      <td>0</td>\n",
       "      <td>20</td>\n",
       "      <td>#learntherisk</td>\n",
       "      <td>en</td>\n",
       "    </tr>\n",
       "    <tr>\n",
       "      <th>3</th>\n",
       "      <td>1250564832702664707</td>\n",
       "      <td>1586992865000</td>\n",
       "      <td>2020-04-15 18:21:05</td>\n",
       "      <td>“Oxygen thief antivaxxer is butthurt.” via u/F...</td>\n",
       "      <td>['#vaxxhappened', '#antivax', '#antivaxx']</td>\n",
       "      <td>VaxxHappenedBOT</td>\n",
       "      <td>0</td>\n",
       "      <td>0</td>\n",
       "      <td>0</td>\n",
       "      <td>#antivaxx</td>\n",
       "      <td>en</td>\n",
       "    </tr>\n",
       "    <tr>\n",
       "      <th>4</th>\n",
       "      <td>1280650314400567296</td>\n",
       "      <td>1594165802000</td>\n",
       "      <td>2020-07-07 18:50:02</td>\n",
       "      <td>Coronavirus airborne transmission: What you ne...</td>\n",
       "      <td>['#vaccineswork']</td>\n",
       "      <td>SNCCLA</td>\n",
       "      <td>2</td>\n",
       "      <td>0</td>\n",
       "      <td>0</td>\n",
       "      <td>#vaccineswork</td>\n",
       "      <td>en</td>\n",
       "    </tr>\n",
       "    <tr>\n",
       "      <th>...</th>\n",
       "      <td>...</td>\n",
       "      <td>...</td>\n",
       "      <td>...</td>\n",
       "      <td>...</td>\n",
       "      <td>...</td>\n",
       "      <td>...</td>\n",
       "      <td>...</td>\n",
       "      <td>...</td>\n",
       "      <td>...</td>\n",
       "      <td>...</td>\n",
       "      <td>...</td>\n",
       "    </tr>\n",
       "    <tr>\n",
       "      <th>48222</th>\n",
       "      <td>1228756871604920320</td>\n",
       "      <td>1581793442000</td>\n",
       "      <td>2020-02-15 14:04:02</td>\n",
       "      <td>A response by a scientific expert to a stateme...</td>\n",
       "      <td>['#publichealth', '#vaccineswork']</td>\n",
       "      <td>RMCarpiano</td>\n",
       "      <td>11</td>\n",
       "      <td>2</td>\n",
       "      <td>5</td>\n",
       "      <td>#vaccineswork</td>\n",
       "      <td>en</td>\n",
       "    </tr>\n",
       "    <tr>\n",
       "      <th>48223</th>\n",
       "      <td>1228724833208406016</td>\n",
       "      <td>1581785803000</td>\n",
       "      <td>2020-02-15 11:56:43</td>\n",
       "      <td>U.S. flu deaths hit 14,000, haven’t peaked yet...</td>\n",
       "      <td>['#vaccineswork']</td>\n",
       "      <td>UppityCancerP</td>\n",
       "      <td>4</td>\n",
       "      <td>0</td>\n",
       "      <td>1</td>\n",
       "      <td>#vaccineswork</td>\n",
       "      <td>en</td>\n",
       "    </tr>\n",
       "    <tr>\n",
       "      <th>48224</th>\n",
       "      <td>1228706549754761217</td>\n",
       "      <td>1581781444000</td>\n",
       "      <td>2020-02-15 10:44:04</td>\n",
       "      <td>I support vaccines because #VaccinesWork. Join...</td>\n",
       "      <td>['#vaccineswork', '#one4gavi']</td>\n",
       "      <td>Altanchimegl1</td>\n",
       "      <td>0</td>\n",
       "      <td>0</td>\n",
       "      <td>0</td>\n",
       "      <td>#vaccineswork</td>\n",
       "      <td>en</td>\n",
       "    </tr>\n",
       "    <tr>\n",
       "      <th>48225</th>\n",
       "      <td>1228695381921320960</td>\n",
       "      <td>1581778781000</td>\n",
       "      <td>2020-02-15 09:59:41</td>\n",
       "      <td>Will you rush to get the vaccine for #COVID on...</td>\n",
       "      <td>['#covid', '#influenza', '#vaccinessavelives',...</td>\n",
       "      <td>dochelmy</td>\n",
       "      <td>4</td>\n",
       "      <td>0</td>\n",
       "      <td>2</td>\n",
       "      <td>#vaccineswork</td>\n",
       "      <td>en</td>\n",
       "    </tr>\n",
       "    <tr>\n",
       "      <th>48226</th>\n",
       "      <td>1228692185006166016</td>\n",
       "      <td>1581778019000</td>\n",
       "      <td>2020-02-15 09:46:59</td>\n",
       "      <td>Goodness, @jkellyca! That was intense. I'm gla...</td>\n",
       "      <td>['#vaccineswork']</td>\n",
       "      <td>edgeben</td>\n",
       "      <td>2</td>\n",
       "      <td>0</td>\n",
       "      <td>0</td>\n",
       "      <td>#vaccineswork</td>\n",
       "      <td>en</td>\n",
       "    </tr>\n",
       "  </tbody>\n",
       "</table>\n",
       "<p>48227 rows × 11 columns</p>\n",
       "</div>"
      ],
      "text/plain": [
       "                        id     created_at                 date  \\\n",
       "0      1267163261960630280  1590950239000  2020-05-31 13:37:19   \n",
       "1      1259260353977954306  1589066038000  2020-05-09 18:13:58   \n",
       "2      1219407996498993153  1579564496000  2020-01-20 18:54:56   \n",
       "3      1250564832702664707  1586992865000  2020-04-15 18:21:05   \n",
       "4      1280650314400567296  1594165802000  2020-07-07 18:50:02   \n",
       "...                    ...            ...                  ...   \n",
       "48222  1228756871604920320  1581793442000  2020-02-15 14:04:02   \n",
       "48223  1228724833208406016  1581785803000  2020-02-15 11:56:43   \n",
       "48224  1228706549754761217  1581781444000  2020-02-15 10:44:04   \n",
       "48225  1228695381921320960  1581778781000  2020-02-15 09:59:41   \n",
       "48226  1228692185006166016  1581778019000  2020-02-15 09:46:59   \n",
       "\n",
       "                                                   tweet  \\\n",
       "0      A two-phase #STUDY provided new evidence suppo...   \n",
       "1      New #STUDY: Infectious #vaccine-derived rubell...   \n",
       "2      \"I was paralyzed from the waist down in 2001 f...   \n",
       "3      “Oxygen thief antivaxxer is butthurt.” via u/F...   \n",
       "4      Coronavirus airborne transmission: What you ne...   \n",
       "...                                                  ...   \n",
       "48222  A response by a scientific expert to a stateme...   \n",
       "48223  U.S. flu deaths hit 14,000, haven’t peaked yet...   \n",
       "48224  I support vaccines because #VaccinesWork. Join...   \n",
       "48225  Will you rush to get the vaccine for #COVID on...   \n",
       "48226  Goodness, @jkellyca! That was intense. I'm gla...   \n",
       "\n",
       "                                                hashtags         username  \\\n",
       "0      ['#study', '#thimerosal', '#vaccines', '#autis...        LotusOak2   \n",
       "1      ['#study', '#vaccine', '#learntherisk', '#vacc...        LotusOak2   \n",
       "2        ['#vaccine', '#vaccineinjury', '#learntherisk']        LotusOak2   \n",
       "3             ['#vaxxhappened', '#antivax', '#antivaxx']  VaxxHappenedBOT   \n",
       "4                                      ['#vaccineswork']           SNCCLA   \n",
       "...                                                  ...              ...   \n",
       "48222                 ['#publichealth', '#vaccineswork']       RMCarpiano   \n",
       "48223                                  ['#vaccineswork']    UppityCancerP   \n",
       "48224                     ['#vaccineswork', '#one4gavi']    Altanchimegl1   \n",
       "48225  ['#covid', '#influenza', '#vaccinessavelives',...         dochelmy   \n",
       "48226                                  ['#vaccineswork']          edgeben   \n",
       "\n",
       "       nlikes  nreplies  nretweets          search lang  \n",
       "0          22         1         23  #vaccineinjury   en  \n",
       "1           6         0          7  #learntherisk    en  \n",
       "2          25         0         20  #learntherisk    en  \n",
       "3           0         0          0       #antivaxx   en  \n",
       "4           2         0          0   #vaccineswork   en  \n",
       "...       ...       ...        ...             ...  ...  \n",
       "48222      11         2          5   #vaccineswork   en  \n",
       "48223       4         0          1   #vaccineswork   en  \n",
       "48224       0         0          0   #vaccineswork   en  \n",
       "48225       4         0          2   #vaccineswork   en  \n",
       "48226       2         0          0   #vaccineswork   en  \n",
       "\n",
       "[48227 rows x 11 columns]"
      ]
     },
     "execution_count": 17,
     "metadata": {},
     "output_type": "execute_result"
    }
   ],
   "source": [
    "df = pd.read_csv('vaccine__tweets.csv')\n",
    "df = df.loc[df[['id']].drop_duplicates().index]\n",
    "\n",
    "for i,r in df.iterrows():\n",
    "    try:\n",
    "        df.loc[i,'lang'] = detect(r.tweet)\n",
    "    except:\n",
    "        df.loc[i,'lang'] = 'NAN'\n",
    "        \n",
    "df = df[df.lang == 'en'].reset_index(drop = True)\n",
    "        \n",
    "df.to_csv('clean_vaccine_tweets.csv')\n",
    "\n",
    "df"
   ]
  },
  {
   "cell_type": "code",
   "execution_count": 18,
   "metadata": {},
   "outputs": [
    {
     "data": {
      "text/plain": [
       "#vaccine              27826\n",
       "#coronavirus           8301\n",
       "#covid19               8243\n",
       "#antivax               7840\n",
       "#vaccines              6179\n",
       "#learntherisk          4928\n",
       "#vaccineswork          4836\n",
       "#antivaxx              4276\n",
       "#billgates             3507\n",
       "#vaxxhappened          3046\n",
       "#vaccineinjury         2906\n",
       "#vaccination           2798\n",
       "#study                 1403\n",
       "#covid                 1323\n",
       "#informedconsent       1188\n",
       "#covid_19              1172\n",
       "#cdc                   1158\n",
       "#covidー19              1133\n",
       "#pandemic              1130\n",
       "#wakeup                1097\n",
       "#hpv                    998\n",
       "#flu                    929\n",
       "#trump                  882\n",
       "#health                 849\n",
       "#virus                  791\n",
       "#gatesfoundation        741\n",
       "#autism                 732\n",
       "#vaccinessavelives      714\n",
       "#gavi                   712\n",
       "#un                     688\n",
       "dtype: int64"
      ]
     },
     "execution_count": 18,
     "metadata": {},
     "output_type": "execute_result"
    }
   ],
   "source": [
    "ht = []\n",
    "for i in df.hashtags:\n",
    "    ht += ast.literal_eval(i) \n",
    "    \n",
    "pd.Series(ht).value_counts(sort = True).head(30)"
   ]
  },
  {
   "cell_type": "code",
   "execution_count": 103,
   "metadata": {},
   "outputs": [
    {
     "data": {
      "text/plain": [
       "\"Why can't Mark Rutte suddenly remember anything about #group immunity?!?\""
      ]
     },
     "execution_count": 103,
     "metadata": {},
     "output_type": "execute_result"
    }
   ],
   "source": [
    "translator = Translator()\n",
    "\n",
    "\n",
    "# # <Translated src=ko dest=en text=Good evening. pronunciation=Good evening.>\n",
    "# >>> translator.translate('안녕하세요.', dest='ja')\n",
    "# # <Translated src=ko dest=ja text=こんにちは。 pronunciation=Kon'nichiwa.>\n",
    "# >>> translator.translate('veritas lux mea', src='la')\n",
    "# # <Translated src=la dest=en text=The truth is my light pronunciation=The truth is my light>"
   ]
  },
  {
   "cell_type": "code",
   "execution_count": 96,
   "metadata": {},
   "outputs": [],
   "source": [
    "translator\n"
   ]
  },
  {
   "cell_type": "code",
   "execution_count": 6,
   "metadata": {},
   "outputs": [],
   "source": [
    "# numero de followers\n",
    "# cambio de ingles/holandes\n",
    "# ciudades\n",
    "# covid19 dataset https://techcrunch.com/2020/04/29/twitter-launches-a-covid-19-dataset-of-tweets-for-approved-developers-and-researchers/\n",
    "# doubt\n",
    "# darle mas peso a los tweets con reaccones, likes , rts"
   ]
  },
  {
   "cell_type": "code",
   "execution_count": null,
   "metadata": {},
   "outputs": [],
   "source": [
    "# Sampling "
   ]
  },
  {
   "cell_type": "code",
   "execution_count": 70,
   "metadata": {},
   "outputs": [
    {
     "data": {
      "text/plain": [
       "'Why can&#39;t Mark Rutte suddenly remember anything about #group immunity?!? Maybe go into therapy during the summer break, how to keep the memory optimal. Or is it just lying? #coronavirus #spoedwet #vaccines https://www.youtube.com/watch?v=1rcjtQtoIFA… @MinPres @markrutte'"
      ]
     },
     "execution_count": 70,
     "metadata": {},
     "output_type": "execute_result"
    }
   ],
   "source": [
    "translator= Translator(from_lang=\"dutch\",to_lang=\"english\")\n"
   ]
  },
  {
   "cell_type": "code",
   "execution_count": 69,
   "metadata": {},
   "outputs": [
    {
     "data": {
      "text/plain": [
       "'Waarom kan Mark Rutte zich ineens niets meer herinneren over #groepsimmuniteit?!? Misschien in het zomerreces eens in therapie gaan, hoe het geheugen optimaal te houden. Of is het gewoon liegen?\\n#coronavirus #spoedwet #vaccines\\n https://www.youtube.com/watch?v=1rcjtQtoIFA\\xa0…\\n@MinPres @markrutte'"
      ]
     },
     "execution_count": 69,
     "metadata": {},
     "output_type": "execute_result"
    }
   ],
   "source": []
  },
  {
   "cell_type": "code",
   "execution_count": 74,
   "metadata": {},
   "outputs": [],
   "source": [
    "df['translation'] = 'NAN'"
   ]
  },
  {
   "cell_type": "code",
   "execution_count": 104,
   "metadata": {},
   "outputs": [],
   "source": [
    "df.loc[df.lang == 'nl', 'translation'] = df.loc[df.lang == 'nl'].tweet.apply(lambda x: translator.translate(x).text)"
   ]
  },
  {
   "cell_type": "code",
   "execution_count": 108,
   "metadata": {},
   "outputs": [],
   "source": [
    "df = df[(df.lang == 'en')|(df.lang == 'nl')]"
   ]
  },
  {
   "cell_type": "code",
   "execution_count": 113,
   "metadata": {},
   "outputs": [
    {
     "name": "stderr",
     "output_type": "stream",
     "text": [
      "D:\\Program Files\\Anaconda\\lib\\site-packages\\pandas\\core\\indexing.py:966: SettingWithCopyWarning: \n",
      "A value is trying to be set on a copy of a slice from a DataFrame.\n",
      "Try using .loc[row_indexer,col_indexer] = value instead\n",
      "\n",
      "See the caveats in the documentation: https://pandas.pydata.org/pandas-docs/stable/user_guide/indexing.html#returning-a-view-versus-a-copy\n",
      "  self.obj[item] = s\n"
     ]
    }
   ],
   "source": [
    "df.loc[df.lang =='en','translation'] = df.loc[df.lang =='en','tweet']"
   ]
  },
  {
   "cell_type": "code",
   "execution_count": 117,
   "metadata": {},
   "outputs": [],
   "source": [
    "df.to_csv('vaccine_loc_translated_tweets.csv')"
   ]
  },
  {
   "cell_type": "markdown",
   "metadata": {
    "colab_type": "text",
    "id": "BnfPpO33WMC0"
   },
   "source": [
    "**2. Filtering out the relevant rows**"
   ]
  },
  {
   "cell_type": "markdown",
   "metadata": {
    "colab_type": "text",
    "id": "m8a-PewMEHtw"
   },
   "source": [
    "**Ideas for cleaning / filtering**\n",
    "1. remove entries that contain positive, or medical sounding tags\n",
    "2. remove entries with more than three hashtags, as it may be promotional messages\n",
    "3. remove entries with at mentions, as it may be promotional messages\n",
    "4. remove entries with less than x chars / words\n",
    "5. remove entries containing urls - again as they are likely to be promotional messages"
   ]
  },
  {
   "cell_type": "code",
   "execution_count": null,
   "metadata": {
    "colab": {},
    "colab_type": "code",
    "id": "Ong9C4LivoYi"
   },
   "outputs": [],
   "source": [
    "selection_to_remove = [\"#mentalhealth\", \"#health\", \"#happiness\", \"#mentalillness\", \"#happy\", \"#joy\", \"#wellbeing\"]"
   ]
  },
  {
   "cell_type": "markdown",
   "metadata": {
    "colab_type": "text",
    "id": "njkya9TDWlfs"
   },
   "source": [
    "#### 1. remove entries that contain positive, or medical sounding tags\n"
   ]
  },
  {
   "cell_type": "code",
   "execution_count": 26,
   "metadata": {
    "colab": {
     "base_uri": "https://localhost:8080/",
     "height": 139
    },
    "colab_type": "code",
    "id": "HT3I3zodzdtb",
    "outputId": "2c7dad44-99f2-43b3-efb0-c4cc8755552b"
   },
   "outputs": [
    {
     "data": {
      "text/plain": [
       "1988    2015: when music destroyed #mentalhealth stigma  http://goo.gl/52eKru  #despair #depression #anxiety #suicide #bipolar via .@guardian                                                                                 \n",
       "1989    Be happy in 2016. Enjoy a special #HealthyMeSummit with @taniadejong #depression & #anxiety  http://ow.ly/W0387   http://fb.me/3rRZ5rnxX                                                                              \n",
       "1990    Be happy in 2016. Enjoy a special #HealthyMeSummit with @taniadejong #depression & #anxiety  http://ow.ly/W0387  pic.twitter.com/b0y5KcstCe                                                                           \n",
       "1993    RT mc1748 When words don't work, #arts program can help heal #veterans  http://strib.mn/1mPKarx  #PTSD #MentalHealth #NAMI #depression #anxi…                                                                         \n",
       "1994    Debunking the myth that #suicides increase over the holiday season  http://nymag.com/scienceofus/2015/12/suicides-dont-really-spike-around-the-holidays.html?mid=twitter-share-scienceofus … #mentalhealth #depression\n",
       "Name: tweet, dtype: object"
      ]
     },
     "execution_count": 26,
     "metadata": {
      "tags": []
     },
     "output_type": "execute_result"
    }
   ],
   "source": [
    "mask1 = df_all.hashtags.apply(lambda x: any(item for item in selection_to_remove if item in x))\n",
    "df_all[mask1].tweet.tail()"
   ]
  },
  {
   "cell_type": "code",
   "execution_count": 27,
   "metadata": {
    "colab": {
     "base_uri": "https://localhost:8080/",
     "height": 204
    },
    "colab_type": "code",
    "id": "xG5mnVIT0tho",
    "outputId": "20abc779-7583-4465-ac05-93f07083c8f3"
   },
   "outputs": [
    {
     "data": {
      "text/plain": [
       "0     New #quote : #secret_society123 #crying #depressed #selfharmmm #cutting #blood #hate #quote #anorexia #anxiety #...  http://flic.kr/p/qBXPN8 \n",
       "1     DA NEW YR ALONE I AM #DEPRESSED BCAUSE OF WAT HAPPENED 2ME ND NOW YA'LL WANA MAKE MY #DEPRESSION WORSE!?!I'VE TRIED MY BEST 2GIVE CHANCES I_ \n",
       "2     @Venom_sR Because it stands out the fact that we are older and we are getting closer to dying #Depressed                                     \n",
       "3     Let me just sit here and wallow in self pity #depressed                                                                                      \n",
       "4     #depressed                                                                                                                                   \n",
       "5     When you ask for a triple chocolate melt down and the waiter tells you no... #depressed #sosad                                               \n",
       "6     First breakdown at work ),: more to come ill bet money on it #depressed                                                                      \n",
       "8     I DONT wanna cry or feel sorry for myself. Its just so hard sometimes watching your sick son in the hospital day after day. #sad #depressed  \n",
       "9     #selfharm #suicide #depressed  http://instagram.com/p/xSebULMGiB/                                                                            \n",
       "10    #Depressed                                                                                                                                   \n",
       "Name: tweet, dtype: object"
      ]
     },
     "execution_count": 27,
     "metadata": {
      "tags": []
     },
     "output_type": "execute_result"
    }
   ],
   "source": [
    "# review the result of remving certain tags\n",
    "df_all[mask1==False].tweet.head(10)"
   ]
  },
  {
   "cell_type": "code",
   "execution_count": 28,
   "metadata": {
    "colab": {
     "base_uri": "https://localhost:8080/",
     "height": 34
    },
    "colab_type": "code",
    "id": "pa_thcW12Z38",
    "outputId": "51a9013b-cb7c-45ea-d7a4-965bb1d7ffcc"
   },
   "outputs": [
    {
     "data": {
      "text/plain": [
       "5242"
      ]
     },
     "execution_count": 28,
     "metadata": {
      "tags": []
     },
     "output_type": "execute_result"
    }
   ],
   "source": [
    "# above results look good, let's apply the mask1\n",
    "df_all = df_all[mask1==False]\n",
    "len (df_all)"
   ]
  },
  {
   "cell_type": "markdown",
   "metadata": {
    "colab_type": "text",
    "id": "C8J8JbRdW8rb"
   },
   "source": [
    "#### 2. remove entries with more than three hashtags, as it may be promotional messages\n"
   ]
  },
  {
   "cell_type": "code",
   "execution_count": null,
   "metadata": {
    "colab": {},
    "colab_type": "code",
    "id": "d50oTEPe2JAH"
   },
   "outputs": [],
   "source": [
    "mask2 = df_all.hashtags.apply(lambda x: x.count(\"#\") < 4)"
   ]
  },
  {
   "cell_type": "code",
   "execution_count": null,
   "metadata": {
    "colab": {},
    "colab_type": "code",
    "id": "WbtG10pS5OmQ"
   },
   "outputs": [],
   "source": [
    "# applying the mask2\n",
    "df_all = df_all[mask2]"
   ]
  },
  {
   "cell_type": "code",
   "execution_count": 37,
   "metadata": {
    "colab": {
     "base_uri": "https://localhost:8080/",
     "height": 34
    },
    "colab_type": "code",
    "id": "7Y2icShS7Qug",
    "outputId": "40c7cdc9-0ae6-4c90-8c4e-6553d59d7a15"
   },
   "outputs": [
    {
     "data": {
      "text/plain": [
       "3308"
      ]
     },
     "execution_count": 37,
     "metadata": {
      "tags": []
     },
     "output_type": "execute_result"
    }
   ],
   "source": [
    "#Check dataset size \n",
    "len(df_all)"
   ]
  },
  {
   "cell_type": "code",
   "execution_count": 38,
   "metadata": {
    "colab": {
     "base_uri": "https://localhost:8080/",
     "height": 768
    },
    "colab_type": "code",
    "id": "91EtBdrW7Ybj",
    "outputId": "3108dbe0-0f9b-4f77-aa4e-f1eecc23217c"
   },
   "outputs": [
    {
     "data": {
      "text/html": [
       "<div>\n",
       "<style scoped>\n",
       "    .dataframe tbody tr th:only-of-type {\n",
       "        vertical-align: middle;\n",
       "    }\n",
       "\n",
       "    .dataframe tbody tr th {\n",
       "        vertical-align: top;\n",
       "    }\n",
       "\n",
       "    .dataframe thead th {\n",
       "        text-align: right;\n",
       "    }\n",
       "</style>\n",
       "<table border=\"1\" class=\"dataframe\">\n",
       "  <thead>\n",
       "    <tr style=\"text-align: right;\">\n",
       "      <th></th>\n",
       "      <th>id</th>\n",
       "      <th>conversation_id</th>\n",
       "      <th>created_at</th>\n",
       "      <th>date</th>\n",
       "      <th>time</th>\n",
       "      <th>timezone</th>\n",
       "      <th>user_id</th>\n",
       "      <th>username</th>\n",
       "      <th>name</th>\n",
       "      <th>place</th>\n",
       "      <th>tweet</th>\n",
       "      <th>mentions</th>\n",
       "      <th>urls</th>\n",
       "      <th>photos</th>\n",
       "      <th>replies_count</th>\n",
       "      <th>retweets_count</th>\n",
       "      <th>likes_count</th>\n",
       "      <th>hashtags</th>\n",
       "      <th>cashtags</th>\n",
       "      <th>link</th>\n",
       "      <th>retweet</th>\n",
       "      <th>quote_url</th>\n",
       "      <th>video</th>\n",
       "      <th>near</th>\n",
       "      <th>geo</th>\n",
       "      <th>source</th>\n",
       "      <th>user_rt_id</th>\n",
       "      <th>user_rt</th>\n",
       "      <th>retweet_id</th>\n",
       "      <th>reply_to</th>\n",
       "      <th>retweet_date</th>\n",
       "    </tr>\n",
       "  </thead>\n",
       "  <tbody>\n",
       "    <tr>\n",
       "      <th>1</th>\n",
       "      <td>550438181943123968</td>\n",
       "      <td>550438181943123968</td>\n",
       "      <td>1420069663000</td>\n",
       "      <td>2014-12-31</td>\n",
       "      <td>23:47:43</td>\n",
       "      <td>UTC</td>\n",
       "      <td>2788182309</td>\n",
       "      <td>lisbethge91</td>\n",
       "      <td>FAITH!HOPE!LOVE1991</td>\n",
       "      <td>NaN</td>\n",
       "      <td>DA NEW YR ALONE I AM #DEPRESSED BCAUSE OF WAT HAPPENED 2ME ND NOW YA'LL WANA MAKE MY #DEPRESSION WORSE!?!I'VE TRIED MY BEST 2GIVE CHANCES I_</td>\n",
       "      <td>[]</td>\n",
       "      <td>[]</td>\n",
       "      <td>[]</td>\n",
       "      <td>0</td>\n",
       "      <td>1</td>\n",
       "      <td>0</td>\n",
       "      <td>['#depressed', '#depression']</td>\n",
       "      <td>[]</td>\n",
       "      <td>https://twitter.com/lisbethge91/status/550438181943123968</td>\n",
       "      <td>False</td>\n",
       "      <td>NaN</td>\n",
       "      <td>0</td>\n",
       "      <td>NaN</td>\n",
       "      <td>NaN</td>\n",
       "      <td>NaN</td>\n",
       "      <td>NaN</td>\n",
       "      <td>NaN</td>\n",
       "      <td>NaN</td>\n",
       "      <td>[{'user_id': '2788182309', 'username': 'lisbethge91'}]</td>\n",
       "      <td>NaN</td>\n",
       "    </tr>\n",
       "    <tr>\n",
       "      <th>2</th>\n",
       "      <td>550437557969121280</td>\n",
       "      <td>550434282066681858</td>\n",
       "      <td>1420069515000</td>\n",
       "      <td>2014-12-31</td>\n",
       "      <td>23:45:15</td>\n",
       "      <td>UTC</td>\n",
       "      <td>2730976702</td>\n",
       "      <td>hazeidine_</td>\n",
       "      <td>Jordan</td>\n",
       "      <td>NaN</td>\n",
       "      <td>@Venom_sR Because it stands out the fact that we are older and we are getting closer to dying #Depressed</td>\n",
       "      <td>['venom_sr']</td>\n",
       "      <td>[]</td>\n",
       "      <td>[]</td>\n",
       "      <td>1</td>\n",
       "      <td>0</td>\n",
       "      <td>0</td>\n",
       "      <td>['#depressed']</td>\n",
       "      <td>[]</td>\n",
       "      <td>https://twitter.com/HazeIdine_/status/550437557969121280</td>\n",
       "      <td>False</td>\n",
       "      <td>NaN</td>\n",
       "      <td>0</td>\n",
       "      <td>NaN</td>\n",
       "      <td>NaN</td>\n",
       "      <td>NaN</td>\n",
       "      <td>NaN</td>\n",
       "      <td>NaN</td>\n",
       "      <td>NaN</td>\n",
       "      <td>[{'user_id': '2730976702', 'username': 'HazeIdine_'}, {'user_id': '780077008986464257', 'username': 'Venom_Sr'}]</td>\n",
       "      <td>NaN</td>\n",
       "    </tr>\n",
       "    <tr>\n",
       "      <th>3</th>\n",
       "      <td>550436284653531136</td>\n",
       "      <td>550436284653531136</td>\n",
       "      <td>1420069211000</td>\n",
       "      <td>2014-12-31</td>\n",
       "      <td>23:40:11</td>\n",
       "      <td>UTC</td>\n",
       "      <td>217658803</td>\n",
       "      <td>kaylajean421</td>\n",
       "      <td>Kayla💚</td>\n",
       "      <td>NaN</td>\n",
       "      <td>Let me just sit here and wallow in self pity #depressed</td>\n",
       "      <td>[]</td>\n",
       "      <td>[]</td>\n",
       "      <td>[]</td>\n",
       "      <td>0</td>\n",
       "      <td>0</td>\n",
       "      <td>0</td>\n",
       "      <td>['#depressed']</td>\n",
       "      <td>[]</td>\n",
       "      <td>https://twitter.com/kaylajean421/status/550436284653531136</td>\n",
       "      <td>False</td>\n",
       "      <td>NaN</td>\n",
       "      <td>0</td>\n",
       "      <td>NaN</td>\n",
       "      <td>NaN</td>\n",
       "      <td>NaN</td>\n",
       "      <td>NaN</td>\n",
       "      <td>NaN</td>\n",
       "      <td>NaN</td>\n",
       "      <td>[{'user_id': '217658803', 'username': 'kaylajean421'}]</td>\n",
       "      <td>NaN</td>\n",
       "    </tr>\n",
       "    <tr>\n",
       "      <th>4</th>\n",
       "      <td>550430157136068608</td>\n",
       "      <td>550430157136068608</td>\n",
       "      <td>1420067750000</td>\n",
       "      <td>2014-12-31</td>\n",
       "      <td>23:15:50</td>\n",
       "      <td>UTC</td>\n",
       "      <td>106244401</td>\n",
       "      <td>fiona_day</td>\n",
       "      <td>Fiona.</td>\n",
       "      <td>NaN</td>\n",
       "      <td>#depressed</td>\n",
       "      <td>[]</td>\n",
       "      <td>[]</td>\n",
       "      <td>[]</td>\n",
       "      <td>0</td>\n",
       "      <td>0</td>\n",
       "      <td>0</td>\n",
       "      <td>['#depressed']</td>\n",
       "      <td>[]</td>\n",
       "      <td>https://twitter.com/fiona_day/status/550430157136068608</td>\n",
       "      <td>False</td>\n",
       "      <td>NaN</td>\n",
       "      <td>0</td>\n",
       "      <td>NaN</td>\n",
       "      <td>NaN</td>\n",
       "      <td>NaN</td>\n",
       "      <td>NaN</td>\n",
       "      <td>NaN</td>\n",
       "      <td>NaN</td>\n",
       "      <td>[{'user_id': '106244401', 'username': 'fiona_day'}]</td>\n",
       "      <td>NaN</td>\n",
       "    </tr>\n",
       "    <tr>\n",
       "      <th>5</th>\n",
       "      <td>550429725513244672</td>\n",
       "      <td>550429725513244672</td>\n",
       "      <td>1420067647000</td>\n",
       "      <td>2014-12-31</td>\n",
       "      <td>23:14:07</td>\n",
       "      <td>UTC</td>\n",
       "      <td>1064666461</td>\n",
       "      <td>kmulaniff713</td>\n",
       "      <td>Kevin Mulaniff</td>\n",
       "      <td>NaN</td>\n",
       "      <td>When you ask for a triple chocolate melt down and the waiter tells you no... #depressed #sosad</td>\n",
       "      <td>[]</td>\n",
       "      <td>[]</td>\n",
       "      <td>[]</td>\n",
       "      <td>0</td>\n",
       "      <td>0</td>\n",
       "      <td>1</td>\n",
       "      <td>['#depressed', '#sosad']</td>\n",
       "      <td>[]</td>\n",
       "      <td>https://twitter.com/KMulaniff713/status/550429725513244672</td>\n",
       "      <td>False</td>\n",
       "      <td>NaN</td>\n",
       "      <td>0</td>\n",
       "      <td>NaN</td>\n",
       "      <td>NaN</td>\n",
       "      <td>NaN</td>\n",
       "      <td>NaN</td>\n",
       "      <td>NaN</td>\n",
       "      <td>NaN</td>\n",
       "      <td>[{'user_id': '1064666461', 'username': 'KMulaniff713'}]</td>\n",
       "      <td>NaN</td>\n",
       "    </tr>\n",
       "  </tbody>\n",
       "</table>\n",
       "</div>"
      ],
      "text/plain": [
       "                   id  ...  retweet_date\n",
       "1  550438181943123968  ... NaN          \n",
       "2  550437557969121280  ... NaN          \n",
       "3  550436284653531136  ... NaN          \n",
       "4  550430157136068608  ... NaN          \n",
       "5  550429725513244672  ... NaN          \n",
       "\n",
       "[5 rows x 31 columns]"
      ]
     },
     "execution_count": 38,
     "metadata": {
      "tags": []
     },
     "output_type": "execute_result"
    }
   ],
   "source": [
    "df_all.head()\n"
   ]
  },
  {
   "cell_type": "markdown",
   "metadata": {
    "colab_type": "text",
    "id": "0tDuqhRcYLMW"
   },
   "source": [
    "#### 3. remove tweets with at mentions as they are sometimes retweets"
   ]
  },
  {
   "cell_type": "code",
   "execution_count": null,
   "metadata": {
    "colab": {},
    "colab_type": "code",
    "id": "XAiX5GSV53tV"
   },
   "outputs": [],
   "source": [
    "mask3 = df_all.mentions.apply(lambda x: len(x) < 5)"
   ]
  },
  {
   "cell_type": "code",
   "execution_count": null,
   "metadata": {
    "colab": {},
    "colab_type": "code",
    "id": "QIlCzFyKHl7b"
   },
   "outputs": [],
   "source": [
    "# applying mask3\n",
    "df_all = df_all[mask3]"
   ]
  },
  {
   "cell_type": "code",
   "execution_count": 42,
   "metadata": {
    "colab": {
     "base_uri": "https://localhost:8080/",
     "height": 34
    },
    "colab_type": "code",
    "id": "HNkQ62tfHw6J",
    "outputId": "09885115-e4e9-4490-9903-814ab4c26c55"
   },
   "outputs": [
    {
     "data": {
      "text/plain": [
       "2718"
      ]
     },
     "execution_count": 42,
     "metadata": {
      "tags": []
     },
     "output_type": "execute_result"
    }
   ],
   "source": [
    "len(df_all)"
   ]
  },
  {
   "cell_type": "code",
   "execution_count": 43,
   "metadata": {
    "colab": {
     "base_uri": "https://localhost:8080/",
     "height": 374
    },
    "colab_type": "code",
    "id": "4P88DNvfH1MX",
    "outputId": "2c9940e2-cf81-4364-d837-a9d5a90a4930"
   },
   "outputs": [
    {
     "data": {
      "text/plain": [
       "['#depressed']                               529\n",
       "['#depression']                              243\n",
       "['#loneliness']                              154\n",
       "['#hopelessness']                            141\n",
       "['#depression', '#therapy']                  87 \n",
       "['#loneliness', '#solitude']                 57 \n",
       "['#anxiety', '#depression']                  19 \n",
       "['#meaning', '#hopelessness']                18 \n",
       "['#art', '#loneliness']                      17 \n",
       "['#depression', '#anxiety']                  13 \n",
       "['#loneliness', '#kill', '#myth']            12 \n",
       "[]                                           11 \n",
       "['#depressed', '#depression']                11 \n",
       "['#depression', '#helpme', '#iwantpeace']    10 \n",
       "['#tms', '#depression']                      10 \n",
       "['#depression', '#alcohol', '#newyears']     10 \n",
       "['#youth', '#hopelessness']                  8  \n",
       "['#loneliness', '#expandedcontacts']         8  \n",
       "['#sad', '#depressed']                       7  \n",
       "['#depression', '#notjustsad']               7  \n",
       "Name: hashtags, dtype: int64"
      ]
     },
     "execution_count": 43,
     "metadata": {
      "tags": []
     },
     "output_type": "execute_result"
    }
   ],
   "source": [
    "# let's check the hashtags value counts again\n",
    "df_all.hashtags.value_counts().head(20)"
   ]
  },
  {
   "cell_type": "code",
   "execution_count": 44,
   "metadata": {
    "colab": {
     "base_uri": "https://localhost:8080/",
     "height": 224
    },
    "colab_type": "code",
    "id": "SObG6mwwH1Y-",
    "outputId": "966de365-6ff2-4386-b8ec-38bacf5d61e8"
   },
   "outputs": [
    {
     "data": {
      "text/plain": [
       "1959    talked about suicidal ideation with a friend last night.she confessed to having a plan of jumping off a bridge.I had no idea.#depression                                                                                       \n",
       "1967    #DEPRESSION                                                                                                                                                                                                                    \n",
       "1968    ur best is plenty good enough 4 anyone or anything that is meant 4U😊Don't let ppl nor circumstances kill you😘#suicideprevention #depression                                                                                    \n",
       "1971    RT talkspace #Depression costs companies $52 billion/year in absenteeism & reduced productivity; results in 400 million lost work days/year…                                                                                   \n",
       "1980    Sleep is extremely important, and for this author, regulating #sleep is what finally relieved his #depression --  http://buff.ly/1QVI7yW                                                                                       \n",
       "1981    Stemming the Tide of #Depression with Transcendental #Meditation  http://bit.ly/1NBrrdw                                                                                                                                        \n",
       "1984    Are you a Warrior?   http://conquerdepression.co.za/warrior/  #depression #conquerdepression                                                                                                                                   \n",
       "1986    Big business studies Americans like lab rats, to increase consumption (and obesity)  http://goo.gl/KrtsX  #depression #dieting                                                                                                 \n",
       "1991    RT screwdepblog Tell me which cover looks better (and download a free eBook!)  https://payhip.com/screwdepression  #depression…  https://twitter.com/screwdepblog/status/682348083896664064/photo/1 pic.twitter.com/ffu5n2EYu3 \n",
       "1998    What does #depression feel like? ➡  http://aboutdepressionfacts.com/oltu  pic.twitter.com/BbbOKm4hXg                                                                                                                           \n",
       "Name: tweet, dtype: object"
      ]
     },
     "execution_count": 44,
     "metadata": {
      "tags": []
     },
     "output_type": "execute_result"
    }
   ],
   "source": [
    "df_all.tweet.tail(10)"
   ]
  },
  {
   "cell_type": "markdown",
   "metadata": {
    "colab_type": "text",
    "id": "X7WSF-H8YuIZ"
   },
   "source": [
    "#### 4. remove entries with less than x chars / words"
   ]
  },
  {
   "cell_type": "code",
   "execution_count": null,
   "metadata": {
    "colab": {},
    "colab_type": "code",
    "id": "YrfU6a0SKKwx"
   },
   "outputs": [],
   "source": [
    "mask4a = df_all.tweet.apply(lambda x: len(x) > 25)\n"
   ]
  },
  {
   "cell_type": "code",
   "execution_count": 46,
   "metadata": {
    "colab": {
     "base_uri": "https://localhost:8080/",
     "height": 34
    },
    "colab_type": "code",
    "id": "lCt0S2eCH1d-",
    "outputId": "e893aaa0-c918-4dd5-82c2-8fe481063901"
   },
   "outputs": [
    {
     "data": {
      "text/plain": [
       "2611"
      ]
     },
     "execution_count": 46,
     "metadata": {
      "tags": []
     },
     "output_type": "execute_result"
    }
   ],
   "source": [
    "df_all = df_all[mask4a]\n",
    "len(df_all)"
   ]
  },
  {
   "cell_type": "code",
   "execution_count": null,
   "metadata": {
    "colab": {},
    "colab_type": "code",
    "id": "ktj8xNGdH7NP"
   },
   "outputs": [],
   "source": [
    "mask4b = df_all.tweet.apply(lambda x: x.count(\" \") > 5)"
   ]
  },
  {
   "cell_type": "code",
   "execution_count": 48,
   "metadata": {
    "colab": {
     "base_uri": "https://localhost:8080/",
     "height": 34
    },
    "colab_type": "code",
    "id": "YRqZah0DJRGa",
    "outputId": "09bb68a7-5176-4624-bd23-30e0cef21367"
   },
   "outputs": [
    {
     "data": {
      "text/plain": [
       "2366"
      ]
     },
     "execution_count": 48,
     "metadata": {
      "tags": []
     },
     "output_type": "execute_result"
    }
   ],
   "source": [
    "df_all = df_all[mask4b]\n",
    "len(df_all)"
   ]
  },
  {
   "cell_type": "code",
   "execution_count": 49,
   "metadata": {
    "colab": {
     "base_uri": "https://localhost:8080/",
     "height": 1000
    },
    "colab_type": "code",
    "id": "YMqeL6FwK1hv",
    "outputId": "9305ad70-7c25-413e-a820-f3b56c206384"
   },
   "outputs": [
    {
     "data": {
      "text/plain": [
       "1       DA NEW YR ALONE I AM #DEPRESSED BCAUSE OF WAT HAPPENED 2ME ND NOW YA'LL WANA MAKE MY #DEPRESSION WORSE!?!I'VE TRIED MY BEST 2GIVE CHANCES I_                                                                                   \n",
       "3       Let me just sit here and wallow in self pity #depressed                                                                                                                                                                        \n",
       "5       When you ask for a triple chocolate melt down and the waiter tells you no... #depressed #sosad                                                                                                                                 \n",
       "6       First breakdown at work ),: more to come ill bet money on it #depressed                                                                                                                                                        \n",
       "8       I DONT wanna cry or feel sorry for myself. Its just so hard sometimes watching your sick son in the hospital day after day. #sad #depressed                                                                                    \n",
       "13      Bought a lottery ticket again for tonight in the hope I'll win enough to escape Saturday til Monday to clear my head a bit #depressed #sad                                                                                     \n",
       "22      I hate it when someone says, \"Why are you #depressed? You have nothing to be depressed about?\" It's chemical! I  can't help it!! #bipolar                                                                                      \n",
       "23      Really wish the gym wasnt closed tomorrow ... #depressed                                                                                                                                                                       \n",
       "25      50 ppl are in this house trying to use wifi. #depressed                                                                                                                                                                        \n",
       "26      Working New Year's Eve 😟 Not going to Newcastle tomorrow 😧 #depressed                                                                                                                                                          \n",
       "30      Fuck surgery. Fuck laying here watching days pass. I'll just sleep through New Year's Eve. #depressed                                                                                                                          \n",
       "35      I'm sinking so fast, I don't even know where to start to save myself. #bipolar #depressed                                                                                                                                      \n",
       "36      #Depressed or #Anxious? National #Suicide Prevention Lifeline offers help, 24/7. 1-800-273-TALK (8255)                                                                                                                         \n",
       "39      Its the 31.12.14, 22:34  in South Africa right now & I am literally alone on New Years Eve. Literally. #foreveralone #depressed #greatstart                                                                                    \n",
       "40      Wanted a sweater but promised I wouldn't buy one for the rest of this month #depressed                                                                                                                                         \n",
       "41      For the first time in quite a while, I don't think I've even seen enough movies to make kshock's top 10 films of the year. #depressed 😓                                                                                        \n",
       "43      Closing New Years Eve and opening New Years Day.. #depressed                                                                                                                                                                   \n",
       "44      #cold and #alone. Not #depressed, just disappointed                                                                                                                                                                            \n",
       "49      And the worse part is......trying to hold on but, no one is there. #depressed #alone #reality…  http://instagram.com/p/xSHMegjiFy/                                                                                             \n",
       "52      Well that's that, seeing my way out of this shitty yr,with a shitty night in bed,feel ill still and miserable...#depressed 😰😰😰😩                                                                                                \n",
       "53      I feel so mentally tortured right now. Dunno what to do #depressed & #Suicidal Feel completely out of control.                                                                                                                 \n",
       "54      #depressed? - discuss  your #depression feelings anonymously -  http://ow.ly/GsmGr   http://ow.ly/GsmGs   http://ow.ly/i/6mvQH                                                                                                 \n",
       "56      Leaving in 2 days #Depressed #ExamsAreInTwoWeeks #SnowyMalta 💔💔😭😭😭😭😭😭😭😭😭😭                                                                                                                                                      \n",
       "58      Not making any plans to go out tonight is already proving to be a regrettable decision... #NightIn #depressed                                                                                                                  \n",
       "60      Hope everyone has a good New Years tonight, coz mines gonna be shit! #moody #pissedoff #depressed                                                                                                                              \n",
       "62      Super depressed for no reason! Yaayyy. Screw my life lol #depressed #fornoreason #NewYearsEve                                                                                                                                  \n",
       "63      #Depressed little miss Debbie downer over here.                                                                                                                                                                                \n",
       "64      Can't believe I'm missing my favourite night 💔 #depressed                                                                                                                                                                      \n",
       "65      Last year I was at the bar all night, getting free drinks, and making out with a stripper. This year I'll be in bed by 9:30. #depressed                                                                                        \n",
       "67      Why can't I go Super Saiyan? #depressed                                                                                                                                                                                        \n",
       "                         ...                                                                                                                                                                                                           \n",
       "1894    A new study links #cyberbullying on social media to #depression in teens. Learn more:  http://bit.ly/1FwOVaF                                                                                                                   \n",
       "1895    Real Men Wear Gowns: Finding happiness after #depression  http://on.kens5.com/1R01SVK                                                                                                                                          \n",
       "1897    I really wish I would have more time to draw blog #comics about #depression. I'm sure they'd be helpful to many...                                                                                                             \n",
       "1902    Using #PhotoTherapy methods in therapy for teens/individuals who have experienced trauma, #depression, etc - visit  http://csolutionstherapy.com                                                                               \n",
       "1904    Show This Video to Anyone Who Doesn't Believe #Depression Is a #Medical Condition  http://dld.bz/ee9np                                                                                                                         \n",
       "1907    Holiday #loneliness and #depression is common. Design your own holiday celebration.  pic.twitter.com/IlzTt2D8IQ                                                                                                                \n",
       "1914    $  I have an idea that #stress & #depression go hand in hand with $$  If u have time pls read my piece at  http://goo.gl/KlaTP8       :)  $                                                                                    \n",
       "1920    Laughter is vital medicine if you suffer #anxiety or #depression. Have a giggle on me :) #healingthoughts pic.twitter.com/aOXYOYoDWr                                                                                           \n",
       "1924    How do you cope with #depression?  http://ow.ly/Wqtj5                                                                                                                                                                          \n",
       "1925    How do you cope with #depression?  http://ow.ly/WqtkC                                                                                                                                                                          \n",
       "1926    How do you cope with #depression?  http://ow.ly/WqtkG                                                                                                                                                                          \n",
       "1927    How do you cope with #depression?  http://ow.ly/WqtkE                                                                                                                                                                          \n",
       "1928    #positivity  http://bit.ly/orgmind  BeYourOwnPilot: dis4depression: I am finally for sale!  http://www.blurb.com/b/6792949-d-is-for-depression … #selfhelp #depression …                                                       \n",
       "1930    Try these proven tips that can help in getting through #holiday #depression  http://ow.ly/WfdlP  pic.twitter.com/GHpN0m60gE                                                                                                    \n",
       "1931    #TMS is in the news a lot for treating #depression and other conditions; but what is it? Contact us to learn more!  pic.twitter.com/b7gmpnhksf                                                                                 \n",
       "1933    What Is the Link Between #Depression and #Heart Disease? http://dld.bz/dZ2vU                                                                                                                                                   \n",
       "1936    #Sarah Silverman Opens Up About #Depression, #Comedy And Troublemaking  http://dld.bz/dYvqE                                                                                                                                    \n",
       "1940     https://m.youtube.com/watch?v=fG9c3kYE3rw … \"Hopeless\" by Breaking Benjamin        HOW DEPRESSION CAN FEEL💔 #depression  pic.twitter.com/4lgJJRh8Dq                                                                           \n",
       "1941    Avoiding Mental Illness Relapse Over the Holidays | HuffPo  http://ow.ly/WszbB  #holidays #depression                                                                                                                          \n",
       "1951    An inspiring self help book written from experience - helping you out of the black hole #depression #anxiety  http://viewbook.at/Livingwithdepression … …#asmsg                                                                \n",
       "1954    Best of 2015:  http://GoodTherapy.org ’s Top 10 Websites for Help with Depression #Depression #Anxiety  http://bit.ly/1Jggv4K                                                                                                  \n",
       "1959    talked about suicidal ideation with a friend last night.she confessed to having a plan of jumping off a bridge.I had no idea.#depression                                                                                       \n",
       "1968    ur best is plenty good enough 4 anyone or anything that is meant 4U😊Don't let ppl nor circumstances kill you😘#suicideprevention #depression                                                                                    \n",
       "1971    RT talkspace #Depression costs companies $52 billion/year in absenteeism & reduced productivity; results in 400 million lost work days/year…                                                                                   \n",
       "1980    Sleep is extremely important, and for this author, regulating #sleep is what finally relieved his #depression --  http://buff.ly/1QVI7yW                                                                                       \n",
       "1981    Stemming the Tide of #Depression with Transcendental #Meditation  http://bit.ly/1NBrrdw                                                                                                                                        \n",
       "1984    Are you a Warrior?   http://conquerdepression.co.za/warrior/  #depression #conquerdepression                                                                                                                                   \n",
       "1986    Big business studies Americans like lab rats, to increase consumption (and obesity)  http://goo.gl/KrtsX  #depression #dieting                                                                                                 \n",
       "1991    RT screwdepblog Tell me which cover looks better (and download a free eBook!)  https://payhip.com/screwdepression  #depression…  https://twitter.com/screwdepblog/status/682348083896664064/photo/1 pic.twitter.com/ffu5n2EYu3 \n",
       "1998    What does #depression feel like? ➡  http://aboutdepressionfacts.com/oltu  pic.twitter.com/BbbOKm4hXg                                                                                                                           \n",
       "Name: tweet, Length: 2366, dtype: object"
      ]
     },
     "execution_count": 49,
     "metadata": {
      "tags": []
     },
     "output_type": "execute_result"
    }
   ],
   "source": [
    "df_all.tweet"
   ]
  },
  {
   "cell_type": "markdown",
   "metadata": {
    "colab_type": "text",
    "id": "VaYkprgmY37Z"
   },
   "source": [
    "\n",
    "#### 5. remove entries containing urls - as they are likely to be promotional messages\n"
   ]
  },
  {
   "cell_type": "code",
   "execution_count": null,
   "metadata": {
    "colab": {},
    "colab_type": "code",
    "id": "p9sEM4O4S1Rp"
   },
   "outputs": [],
   "source": [
    "mask5 = df_all.urls.apply(lambda x: len(x) < 5)"
   ]
  },
  {
   "cell_type": "code",
   "execution_count": 51,
   "metadata": {
    "colab": {
     "base_uri": "https://localhost:8080/",
     "height": 411
    },
    "colab_type": "code",
    "id": "5WlzAtSQS1gs",
    "outputId": "0610bf97-b41e-4919-fd57-6f8fdee86564"
   },
   "outputs": [
    {
     "data": {
      "text/plain": [
       "(49     And the worse part is......trying to hold on but, no one is there. #depressed #alone #reality…  http://instagram.com/p/xSHMegjiFy/                                                             \n",
       " 54     #depressed? - discuss  your #depression feelings anonymously -  http://ow.ly/GsmGr   http://ow.ly/GsmGs   http://ow.ly/i/6mvQH                                                                 \n",
       " 71     Happy new year ☺ Rayakan tahun yg baru dengan ini ! #Depressed  http://instagram.com/p/xR3sa5v22q/                                                                                             \n",
       " 90     Is your child #depressed? Learn the #signs of childhood depression here:  http://bit.ly/WQg3z9                                                                                                 \n",
       " 95     Do you feel low amidst the new year celebrations? Even so there is a quiet capacity for happiness within  http://innerspacetherapy.in/mindfulness/discovering-happy-feel-low-blue/ … #depressed\n",
       " 130    If you are #depressed or just need to #feelbetter read this article  http://ow.ly/Gw0c5                                                                                                        \n",
       " 143    \"I swear I can feel you creeping under my skin and it feels like heaven to me\" #quote #sad #depressed…  http://instagram.com/p/xQka0vsmg9/                                                     \n",
       " 183    Sorry this post is dumb you guys.... #Upset #depressed  http://instagram.com/p/xQKzFzNNAI/                                                                                                     \n",
       " 190    If you are #depressed or just need to #feelbetter read this article  http://ow.ly/Gw08F                                                                                                        \n",
       " 211    For him. 😓😥😭👊😘💔 #Depressed #Jealous  http://instagram.com/p/xP4uSWPeLU/                                                                                                                        \n",
       " Name: tweet, dtype: object,\n",
       " 1940     https://m.youtube.com/watch?v=fG9c3kYE3rw … \"Hopeless\" by Breaking Benjamin        HOW DEPRESSION CAN FEEL💔 #depression  pic.twitter.com/4lgJJRh8Dq                                                                           \n",
       " 1941    Avoiding Mental Illness Relapse Over the Holidays | HuffPo  http://ow.ly/WszbB  #holidays #depression                                                                                                                          \n",
       " 1951    An inspiring self help book written from experience - helping you out of the black hole #depression #anxiety  http://viewbook.at/Livingwithdepression … …#asmsg                                                                \n",
       " 1954    Best of 2015:  http://GoodTherapy.org ’s Top 10 Websites for Help with Depression #Depression #Anxiety  http://bit.ly/1Jggv4K                                                                                                  \n",
       " 1980    Sleep is extremely important, and for this author, regulating #sleep is what finally relieved his #depression --  http://buff.ly/1QVI7yW                                                                                       \n",
       " 1981    Stemming the Tide of #Depression with Transcendental #Meditation  http://bit.ly/1NBrrdw                                                                                                                                        \n",
       " 1984    Are you a Warrior?   http://conquerdepression.co.za/warrior/  #depression #conquerdepression                                                                                                                                   \n",
       " 1986    Big business studies Americans like lab rats, to increase consumption (and obesity)  http://goo.gl/KrtsX  #depression #dieting                                                                                                 \n",
       " 1991    RT screwdepblog Tell me which cover looks better (and download a free eBook!)  https://payhip.com/screwdepression  #depression…  https://twitter.com/screwdepblog/status/682348083896664064/photo/1 pic.twitter.com/ffu5n2EYu3 \n",
       " 1998    What does #depression feel like? ➡  http://aboutdepressionfacts.com/oltu  pic.twitter.com/BbbOKm4hXg                                                                                                                           \n",
       " Name: tweet, dtype: object)"
      ]
     },
     "execution_count": 51,
     "metadata": {
      "tags": []
     },
     "output_type": "execute_result"
    }
   ],
   "source": [
    "# let's have a look at what we will be removing from the dataset\n",
    "df_all[mask5==False].tweet.head(10), df_all[mask5==False].tweet.tail(10)"
   ]
  },
  {
   "cell_type": "markdown",
   "metadata": {
    "colab_type": "text",
    "id": "KEVBtTavVT_c"
   },
   "source": [
    "The above shows that tweets with urls are indeed more likely to be promotional / informational  / educational messages and not indicative of the user~s actual emotional state, and thus can be removed (or marked as negative scenarios)"
   ]
  },
  {
   "cell_type": "code",
   "execution_count": 52,
   "metadata": {
    "colab": {
     "base_uri": "https://localhost:8080/",
     "height": 34
    },
    "colab_type": "code",
    "id": "k4HTHP5oVEZC",
    "outputId": "e0f59fe6-318a-4a36-ccce-59eef067d5ae"
   },
   "outputs": [
    {
     "data": {
      "text/plain": [
       "1351"
      ]
     },
     "execution_count": 52,
     "metadata": {
      "tags": []
     },
     "output_type": "execute_result"
    }
   ],
   "source": [
    "df_all = df_all[mask5]\n",
    "len(df_all)"
   ]
  },
  {
   "cell_type": "markdown",
   "metadata": {
    "colab_type": "text",
    "id": "KMTWCeO8NBH6"
   },
   "source": [
    "## 3. Finally, let's create a column containing the tweet text, but with all hashtags removed\n",
    "\n",
    "This column can be used as input to the model, or can be sent to another software for further emotion and linguistic analysis. The idea is, if the hashtags are removed, the model and the software will examine the text and clairy if the actual emotion is negative and indicative of depression"
   ]
  },
  {
   "cell_type": "code",
   "execution_count": null,
   "metadata": {
    "colab": {},
    "colab_type": "code",
    "id": "oeOckKuWNAXH"
   },
   "outputs": [],
   "source": [
    "df_all[\"mod_text\"] = df_all[\"tweet\"].apply(lambda x: re.sub(r'#\\w+', '', x))"
   ]
  },
  {
   "cell_type": "code",
   "execution_count": null,
   "metadata": {
    "colab": {
     "base_uri": "https://localhost:8080/",
     "height": 581
    },
    "colab_type": "code",
    "id": "TAAS70naNAZ4",
    "outputId": "a2d63bc4-f32b-4876-d23e-a8ad3cc932ba"
   },
   "outputs": [
    {
     "data": {
      "text/plain": [
       "(1      mood can be caused by infectious diseases, nutritional deficiencies, neurological conditions, and physiological problems.                                                                                                                                                                       \n",
       " 6     With all of this unnessary  family drama, I feel like moving far away and starting over again. From one thing to another I just feel . Hope I get through this                                                                                                                                   \n",
       " 7     Stress na nga sa bahay, stress pa sa school😔                                                                                                                                                                                                                                                     \n",
       " 8     Step 1.  Anfangen, richtig zu essen. Nicht zu wenig, nicht zu viel. & am besten ausgewogen.  Damit ich dann die nötige Kraft habe, um den Tag zu überstehen.  In der letzten Zeit war ich viel zu schwach. Das muss sich ändern.                                                                 \n",
       " 11    I'm going to keep banging on about this, cos it's true. What you focus on, you get more of. Stop telling yourself you're  or . Tell yourself you're happy, strong, confident, powerful. Not only cos you ARE, but cos your brilliant mind listens to what you tell it. pic.twitter.com/gBQn7yEjsJ\n",
       " 13    Es tut mir leid, dass ich so bin, wie ich bin. Es tut mir leid, dass die Depressionen einer meiner ständigen Begleiter sind.  Es tut mir leid, dass du mir dabei nicht helfen kannst.                                                                                                            \n",
       " 14    Ugh. Woke up to the same acne covered face this morning... Yyayyy😢😒                                                                                                                                                                                                                              \n",
       " 16       Portable Transparent Tobacco Rolling Machine  pic.twitter.com/k7Sb0Q11fW                                                                                                                                                                                                                      \n",
       " 18    Certain medications are known to cause  mood in a significant number of patients.                                                                                                                                                                                                                \n",
       " 23    I feel so sad because i can't be happy, and that makes me more unhappy                                                                                                                                                                                                                           \n",
       " 26    Me gustó el flaco de mi ecs, Tmre                                                                                                                                                                                                                                                                \n",
       " 27    I went to church with my mom and a huge chunk of the sermon was basically “if you’re  it’s because your faith is weak” and ... this is why I don’t go to church or tell my mom I’m on antidepressants 🤦🏻‍♀️                                                                                      \n",
       " 38    No love here....    pic.twitter.com/FuvBXIPRnu                                                                                                                                                                                                                                                   \n",
       " 39    I see so many people moving forward with their life and doing great things and here I am doing absolutely nothing😖😭😭😢    pic.twitter.com/yiiq7LQqk7                                                                                                                                              \n",
       " 40    Didn’t get to live through the  but I’ve sure been to a lot of steak and shakes                                                                                                                                                                                                                  \n",
       " Name: mod_text, dtype: object,\n",
       " 1842    What's worse,  I don't want her knowing my whereabouts.   I'm tired of the , the  & not being able to live life.                 \n",
       " 1843    You don't have to be sad because of depression! Get help. Get clear!                                                             \n",
       " 1849    I hate this feeling, but I brought it on myself   I hope that those I have hurt won't give up on me 😢                            \n",
       " 1852    And if the Black Dog comes for me again this new year, perhaps this time I will have a brighter lantern to face the night.       \n",
       " 1853    I've never dream to love him                                                                                                     \n",
       " 1859    RT WeedFeed \"Physicians have Recommended  for the Treatment of  Since 1621 -  …  pic.twitter.com/LboHmD9dj9\"                     \n",
       " 1867    \"Worrying does not empty tomorrow of its troubles, it empties today of its strength.\" - Corrie                                   \n",
       " 1875    \"Anxiety is like a tornado, the most violent, horrific, and destructive atmospheric phenomenon\"   pic.twitter.com/bouB66RDi0     \n",
       " 1894    I really wish I would have more time to draw blog  about . I'm sure they'd be helpful to many...                                 \n",
       " 1904    Holiday  and  is common. Design your own holiday celebration.  pic.twitter.com/IlzTt2D8IQ                                        \n",
       " 1917    Laughter is vital medicine if you suffer  or . Have a giggle on me :)  pic.twitter.com/aOXYOYoDWr                                \n",
       " 1928     is in the news a lot for treating  and other conditions; but what is it? Contact us to learn more!  pic.twitter.com/b7gmpnhksf  \n",
       " 1956    talked about suicidal ideation with a friend last night.she confessed to having a plan of jumping off a bridge.I had no idea.    \n",
       " 1965    ur best is plenty good enough 4 anyone or anything that is meant 4U😊Don't let ppl nor circumstances kill you😘                    \n",
       " 1968    RT talkspace  costs companies $52 billion/year in absenteeism & reduced productivity; results in 400 million lost work days/year…\n",
       " Name: mod_text, dtype: object)"
      ]
     },
     "execution_count": 196,
     "metadata": {
      "tags": []
     },
     "output_type": "execute_result"
    }
   ],
   "source": [
    "df_all.mod_text.head(15), df_all.mod_text.tail(15)"
   ]
  },
  {
   "cell_type": "code",
   "execution_count": null,
   "metadata": {
    "colab": {},
    "colab_type": "code",
    "id": "zLQwKk_oIgeh"
   },
   "outputs": [],
   "source": []
  },
  {
   "cell_type": "code",
   "execution_count": null,
   "metadata": {
    "colab": {
     "base_uri": "https://localhost:8080/",
     "height": 374
    },
    "colab_type": "code",
    "id": "EI9kRfAvK1kw",
    "outputId": "fb6f63f4-9be4-412f-af5b-c9963a707f4e"
   },
   "outputs": [
    {
     "data": {
      "text/plain": [
       "['#depressed']                               296\n",
       "['#depression']                              110\n",
       "['#loneliness']                              78 \n",
       "['#hopelessness']                            21 \n",
       "['#depressed', '#stressed', '#alone']        10 \n",
       "['#sad', '#depressed']                       9  \n",
       "['#depression', '#anxiety']                  9  \n",
       "['#stoner', '#instahookah', '#depressed']    8  \n",
       "['#depression', '#depressed']                6  \n",
       "['#tms', '#depression']                      6  \n",
       "['#depression', '#helpme', '#iwantpeace']    5  \n",
       "['#lonely', '#depressed']                    4  \n",
       "['#depressed', '#lonely']                    4  \n",
       "['#anxiety', '#depression']                  4  \n",
       "['#depressed', '#anxious']                   4  \n",
       "['#depressed', '#positive']                  3  \n",
       "['#ptsd', '#depression']                     3  \n",
       "['#depression', '#notjustsad']               3  \n",
       "['#loneliness', '#depression']               3  \n",
       "['#depressed', '#sad']                       3  \n",
       "Name: hashtags, dtype: int64"
      ]
     },
     "execution_count": 197,
     "metadata": {
      "tags": []
     },
     "output_type": "execute_result"
    }
   ],
   "source": [
    "# let~s check the hashtags value counts again\n",
    "df_all.hashtags.value_counts().head(20)"
   ]
  },
  {
   "cell_type": "code",
   "execution_count": null,
   "metadata": {
    "colab": {
     "base_uri": "https://localhost:8080/",
     "height": 136
    },
    "colab_type": "code",
    "id": "45me13XzjMKh",
    "outputId": "0c9a833d-372e-4b3c-f708-327f9fd65555"
   },
   "outputs": [
    {
     "data": {
      "text/plain": [
       "Index(['id', 'conversation_id', 'created_at', 'date', 'time', 'timezone',\n",
       "       'user_id', 'username', 'name', 'place', 'tweet', 'mentions', 'urls',\n",
       "       'photos', 'replies_count', 'retweets_count', 'likes_count', 'hashtags',\n",
       "       'cashtags', 'link', 'retweet', 'quote_url', 'video', 'near', 'geo',\n",
       "       'source', 'user_rt_id', 'user_rt', 'retweet_id', 'reply_to',\n",
       "       'retweet_date', 'mod_text'],\n",
       "      dtype='object')"
      ]
     },
     "execution_count": 199,
     "metadata": {
      "tags": []
     },
     "output_type": "execute_result"
    }
   ],
   "source": [
    "df_all.columns"
   ]
  },
  {
   "cell_type": "code",
   "execution_count": null,
   "metadata": {
    "colab": {},
    "colab_type": "code",
    "id": "nMvkt2BWkobP"
   },
   "outputs": [],
   "source": [
    "col_list = [\"id\", \"conversation_id\", \"date\", \"username\", \"mod_text\", \"hashtags\", \"tweet\"]"
   ]
  },
  {
   "cell_type": "code",
   "execution_count": null,
   "metadata": {
    "colab": {},
    "colab_type": "code",
    "id": "3iZ0zHIqlGBW"
   },
   "outputs": [],
   "source": [
    "df_final1 = df_all[col_list]\n",
    "df_final1 = df_final1.rename(columns={\"mod_text\": \"tweet_processed\", \"tweet\": \"tweet_original\"})\n"
   ]
  },
  {
   "cell_type": "code",
   "execution_count": null,
   "metadata": {
    "colab": {},
    "colab_type": "code",
    "id": "ug2bNqt2mGgq"
   },
   "outputs": [],
   "source": [
    "df_final1[\"target\"] = 1"
   ]
  },
  {
   "cell_type": "code",
   "execution_count": 28,
   "metadata": {},
   "outputs": [
    {
     "data": {
      "text/html": [
       "<div>\n",
       "<style scoped>\n",
       "    .dataframe tbody tr th:only-of-type {\n",
       "        vertical-align: middle;\n",
       "    }\n",
       "\n",
       "    .dataframe tbody tr th {\n",
       "        vertical-align: top;\n",
       "    }\n",
       "\n",
       "    .dataframe thead th {\n",
       "        text-align: right;\n",
       "    }\n",
       "</style>\n",
       "<table border=\"1\" class=\"dataframe\">\n",
       "  <thead>\n",
       "    <tr style=\"text-align: right;\">\n",
       "      <th></th>\n",
       "      <th>Unnamed: 0</th>\n",
       "      <th>id</th>\n",
       "      <th>created_at</th>\n",
       "      <th>date</th>\n",
       "      <th>tweet</th>\n",
       "      <th>hashtags</th>\n",
       "      <th>username</th>\n",
       "      <th>nlikes</th>\n",
       "      <th>nreplies</th>\n",
       "      <th>nretweets</th>\n",
       "      <th>search</th>\n",
       "      <th>city</th>\n",
       "      <th>lang</th>\n",
       "      <th>translation</th>\n",
       "      <th>sentiment</th>\n",
       "      <th>fear</th>\n",
       "      <th>joy</th>\n",
       "      <th>anger</th>\n",
       "      <th>sadness</th>\n",
       "    </tr>\n",
       "  </thead>\n",
       "  <tbody>\n",
       "    <tr>\n",
       "      <th>0</th>\n",
       "      <td>0</td>\n",
       "      <td>1282223179205873664</td>\n",
       "      <td>1594540803000</td>\n",
       "      <td>2020-07-12 03:00:03</td>\n",
       "      <td>Waarom kan Mark Rutte zich ineens niets meer h...</td>\n",
       "      <td>['#groepsimmuniteit', '#coronavirus', '#spoedw...</td>\n",
       "      <td>Politiek2014</td>\n",
       "      <td>1</td>\n",
       "      <td>0</td>\n",
       "      <td>0</td>\n",
       "      <td>#vaccines</td>\n",
       "      <td>Den Haag</td>\n",
       "      <td>nl</td>\n",
       "      <td>Why can't Mark Rutte suddenly remember anythin...</td>\n",
       "      <td>0.000000</td>\n",
       "      <td>0.305815</td>\n",
       "      <td>0.294437</td>\n",
       "      <td>0.265241</td>\n",
       "      <td>0.637511</td>\n",
       "    </tr>\n",
       "    <tr>\n",
       "      <th>1</th>\n",
       "      <td>2</td>\n",
       "      <td>313645475158978560</td>\n",
       "      <td>1363613883000</td>\n",
       "      <td>2013-03-18 08:38:03</td>\n",
       "      <td>@AFP This is the saddest #News for today! You ...</td>\n",
       "      <td>['#news', '#hpv', '#health', '#vaccines']</td>\n",
       "      <td>gproev</td>\n",
       "      <td>0</td>\n",
       "      <td>0</td>\n",
       "      <td>0</td>\n",
       "      <td>#vaccines</td>\n",
       "      <td>Maastricht</td>\n",
       "      <td>en</td>\n",
       "      <td>@AFP This is the saddest #News for today! You ...</td>\n",
       "      <td>0.000000</td>\n",
       "      <td>0.015916</td>\n",
       "      <td>0.723660</td>\n",
       "      <td>0.387028</td>\n",
       "      <td>0.692675</td>\n",
       "    </tr>\n",
       "    <tr>\n",
       "      <th>2</th>\n",
       "      <td>3</td>\n",
       "      <td>1045340157896007680</td>\n",
       "      <td>1538063489000</td>\n",
       "      <td>2018-09-27 10:51:29</td>\n",
       "      <td>#vaccinatie voor de aanstaande #Oman reis (@ H...</td>\n",
       "      <td>['#vaccinatie', '#oman']</td>\n",
       "      <td>RuudvanEmpel</td>\n",
       "      <td>0</td>\n",
       "      <td>0</td>\n",
       "      <td>0</td>\n",
       "      <td>#vaccinatie</td>\n",
       "      <td>Eindhoven</td>\n",
       "      <td>nl</td>\n",
       "      <td>#vaccination for the upcoming #Oman trip (@ Hu...</td>\n",
       "      <td>0.000000</td>\n",
       "      <td>0.137715</td>\n",
       "      <td>0.326222</td>\n",
       "      <td>0.215124</td>\n",
       "      <td>0.249867</td>\n",
       "    </tr>\n",
       "    <tr>\n",
       "      <th>3</th>\n",
       "      <td>4</td>\n",
       "      <td>1283839700298604544</td>\n",
       "      <td>1594926211000</td>\n",
       "      <td>2020-07-16 14:03:31</td>\n",
       "      <td>Griep. Prikken, slikken of heel voorzichtig ni...</td>\n",
       "      <td>['#griep', '#vaccin', '#pandemie']</td>\n",
       "      <td>HansRdeGraaff</td>\n",
       "      <td>0</td>\n",
       "      <td>0</td>\n",
       "      <td>0</td>\n",
       "      <td>#vaccin</td>\n",
       "      <td>Utrecht</td>\n",
       "      <td>nl</td>\n",
       "      <td>Flu. Stinging, swallowing or doing nothing ver...</td>\n",
       "      <td>-0.130000</td>\n",
       "      <td>0.012778</td>\n",
       "      <td>0.211245</td>\n",
       "      <td>0.156112</td>\n",
       "      <td>0.534460</td>\n",
       "    </tr>\n",
       "    <tr>\n",
       "      <th>4</th>\n",
       "      <td>5</td>\n",
       "      <td>1281688167427592192</td>\n",
       "      <td>1594413246000</td>\n",
       "      <td>2020-07-10 15:34:06</td>\n",
       "      <td>Polluh! #coronavirus #Vaccin  pic.twitter.com/...</td>\n",
       "      <td>['#coronavirus', '#vaccin']</td>\n",
       "      <td>sandravogelaar</td>\n",
       "      <td>8</td>\n",
       "      <td>1</td>\n",
       "      <td>6</td>\n",
       "      <td>#vaccin</td>\n",
       "      <td>Rotterdam</td>\n",
       "      <td>en</td>\n",
       "      <td>Polluh! #coronavirus #Vaccin  pic.twitter.com/...</td>\n",
       "      <td>0.000000</td>\n",
       "      <td>0.165123</td>\n",
       "      <td>0.476035</td>\n",
       "      <td>0.048678</td>\n",
       "      <td>0.321913</td>\n",
       "    </tr>\n",
       "    <tr>\n",
       "      <th>...</th>\n",
       "      <td>...</td>\n",
       "      <td>...</td>\n",
       "      <td>...</td>\n",
       "      <td>...</td>\n",
       "      <td>...</td>\n",
       "      <td>...</td>\n",
       "      <td>...</td>\n",
       "      <td>...</td>\n",
       "      <td>...</td>\n",
       "      <td>...</td>\n",
       "      <td>...</td>\n",
       "      <td>...</td>\n",
       "      <td>...</td>\n",
       "      <td>...</td>\n",
       "      <td>...</td>\n",
       "      <td>...</td>\n",
       "      <td>...</td>\n",
       "      <td>...</td>\n",
       "      <td>...</td>\n",
       "    </tr>\n",
       "    <tr>\n",
       "      <th>1948</th>\n",
       "      <td>2011</td>\n",
       "      <td>1258080869337698320</td>\n",
       "      <td>1588784827000</td>\n",
       "      <td>2020-05-06 12:07:07</td>\n",
       "      <td>#persconferentie Hugo de Jonge wrijft er alvas...</td>\n",
       "      <td>['#persconferentie', 'vaccin']</td>\n",
       "      <td>CGkwek</td>\n",
       "      <td>1</td>\n",
       "      <td>1</td>\n",
       "      <td>0</td>\n",
       "      <td>vaccin</td>\n",
       "      <td>Utrecht</td>\n",
       "      <td>nl</td>\n",
       "      <td>#persconferentie Hugo de Jonge wrijft er alvas...</td>\n",
       "      <td>0.000000</td>\n",
       "      <td>0.232990</td>\n",
       "      <td>0.212387</td>\n",
       "      <td>0.862887</td>\n",
       "      <td>0.233088</td>\n",
       "    </tr>\n",
       "    <tr>\n",
       "      <th>1949</th>\n",
       "      <td>2012</td>\n",
       "      <td>36392727981588480</td>\n",
       "      <td>1297511677000</td>\n",
       "      <td>2011-02-12 06:54:37</td>\n",
       "      <td>Vaccines - Wreckin' Bar (ra Ra Ra)  \\n http://...</td>\n",
       "      <td>['vaccine']</td>\n",
       "      <td>L3FM</td>\n",
       "      <td>0</td>\n",
       "      <td>0</td>\n",
       "      <td>0</td>\n",
       "      <td>vaccine</td>\n",
       "      <td>Utrecht</td>\n",
       "      <td>en</td>\n",
       "      <td>Vaccines - Wreckin' Bar (ra Ra Ra)  \\n http://...</td>\n",
       "      <td>0.000000</td>\n",
       "      <td>0.308654</td>\n",
       "      <td>0.950085</td>\n",
       "      <td>0.616638</td>\n",
       "      <td>0.377362</td>\n",
       "    </tr>\n",
       "    <tr>\n",
       "      <th>1950</th>\n",
       "      <td>2013</td>\n",
       "      <td>1282261679380860928</td>\n",
       "      <td>1594549982000</td>\n",
       "      <td>2020-07-12 05:33:02</td>\n",
       "      <td>En vervolgens geeft zelfbenoemd wetenschapper ...</td>\n",
       "      <td>['#coronavirus', 'vaccin']</td>\n",
       "      <td>BriemenV</td>\n",
       "      <td>0</td>\n",
       "      <td>0</td>\n",
       "      <td>0</td>\n",
       "      <td>vaccin</td>\n",
       "      <td>Amsterdam</td>\n",
       "      <td>nl</td>\n",
       "      <td>And then self-proclaimed scientist @hugodejong...</td>\n",
       "      <td>0.000000</td>\n",
       "      <td>0.050201</td>\n",
       "      <td>0.120397</td>\n",
       "      <td>0.143417</td>\n",
       "      <td>0.175324</td>\n",
       "    </tr>\n",
       "    <tr>\n",
       "      <th>1951</th>\n",
       "      <td>2014</td>\n",
       "      <td>1262639650067316736</td>\n",
       "      <td>1589871725000</td>\n",
       "      <td>2020-05-19 02:02:05</td>\n",
       "      <td>Kom je nog wel achter die “1.5 meter” blijft t...</td>\n",
       "      <td>['vaccin']</td>\n",
       "      <td>Dusssssss3</td>\n",
       "      <td>0</td>\n",
       "      <td>0</td>\n",
       "      <td>0</td>\n",
       "      <td>vaccin</td>\n",
       "      <td>Den Haag</td>\n",
       "      <td>nl</td>\n",
       "      <td>You will still find out that \"1.5 meters\" rema...</td>\n",
       "      <td>-0.300000</td>\n",
       "      <td>0.090423</td>\n",
       "      <td>0.647489</td>\n",
       "      <td>0.512748</td>\n",
       "      <td>0.335186</td>\n",
       "    </tr>\n",
       "    <tr>\n",
       "      <th>1952</th>\n",
       "      <td>2015</td>\n",
       "      <td>1257060280661663749</td>\n",
       "      <td>1588541500000</td>\n",
       "      <td>2020-05-03 16:31:40</td>\n",
       "      <td>Omdat het nog niet gelukt is om dat HIV-vaccin...</td>\n",
       "      <td>['vaccin']</td>\n",
       "      <td>paulienwashere</td>\n",
       "      <td>0</td>\n",
       "      <td>1</td>\n",
       "      <td>0</td>\n",
       "      <td>vaccin</td>\n",
       "      <td>Utrecht</td>\n",
       "      <td>nl</td>\n",
       "      <td>Because we have not yet been able to make that...</td>\n",
       "      <td>0.238095</td>\n",
       "      <td>0.521367</td>\n",
       "      <td>0.546807</td>\n",
       "      <td>0.213826</td>\n",
       "      <td>0.443742</td>\n",
       "    </tr>\n",
       "  </tbody>\n",
       "</table>\n",
       "<p>1953 rows × 19 columns</p>\n",
       "</div>"
      ],
      "text/plain": [
       "      Unnamed: 0                   id     created_at                 date  \\\n",
       "0              0  1282223179205873664  1594540803000  2020-07-12 03:00:03   \n",
       "1              2   313645475158978560  1363613883000  2013-03-18 08:38:03   \n",
       "2              3  1045340157896007680  1538063489000  2018-09-27 10:51:29   \n",
       "3              4  1283839700298604544  1594926211000  2020-07-16 14:03:31   \n",
       "4              5  1281688167427592192  1594413246000  2020-07-10 15:34:06   \n",
       "...          ...                  ...            ...                  ...   \n",
       "1948        2011  1258080869337698320  1588784827000  2020-05-06 12:07:07   \n",
       "1949        2012    36392727981588480  1297511677000  2011-02-12 06:54:37   \n",
       "1950        2013  1282261679380860928  1594549982000  2020-07-12 05:33:02   \n",
       "1951        2014  1262639650067316736  1589871725000  2020-05-19 02:02:05   \n",
       "1952        2015  1257060280661663749  1588541500000  2020-05-03 16:31:40   \n",
       "\n",
       "                                                  tweet  \\\n",
       "0     Waarom kan Mark Rutte zich ineens niets meer h...   \n",
       "1     @AFP This is the saddest #News for today! You ...   \n",
       "2     #vaccinatie voor de aanstaande #Oman reis (@ H...   \n",
       "3     Griep. Prikken, slikken of heel voorzichtig ni...   \n",
       "4     Polluh! #coronavirus #Vaccin  pic.twitter.com/...   \n",
       "...                                                 ...   \n",
       "1948  #persconferentie Hugo de Jonge wrijft er alvas...   \n",
       "1949  Vaccines - Wreckin' Bar (ra Ra Ra)  \\n http://...   \n",
       "1950  En vervolgens geeft zelfbenoemd wetenschapper ...   \n",
       "1951  Kom je nog wel achter die “1.5 meter” blijft t...   \n",
       "1952  Omdat het nog niet gelukt is om dat HIV-vaccin...   \n",
       "\n",
       "                                               hashtags        username  \\\n",
       "0     ['#groepsimmuniteit', '#coronavirus', '#spoedw...    Politiek2014   \n",
       "1             ['#news', '#hpv', '#health', '#vaccines']          gproev   \n",
       "2                              ['#vaccinatie', '#oman']    RuudvanEmpel   \n",
       "3                    ['#griep', '#vaccin', '#pandemie']   HansRdeGraaff   \n",
       "4                           ['#coronavirus', '#vaccin']  sandravogelaar   \n",
       "...                                                 ...             ...   \n",
       "1948                     ['#persconferentie', 'vaccin']          CGkwek   \n",
       "1949                                        ['vaccine']            L3FM   \n",
       "1950                         ['#coronavirus', 'vaccin']        BriemenV   \n",
       "1951                                         ['vaccin']      Dusssssss3   \n",
       "1952                                         ['vaccin']  paulienwashere   \n",
       "\n",
       "      nlikes  nreplies  nretweets       search        city lang  \\\n",
       "0          1         0          0    #vaccines    Den Haag   nl   \n",
       "1          0         0          0    #vaccines  Maastricht   en   \n",
       "2          0         0          0  #vaccinatie   Eindhoven   nl   \n",
       "3          0         0          0      #vaccin     Utrecht   nl   \n",
       "4          8         1          6      #vaccin   Rotterdam   en   \n",
       "...      ...       ...        ...          ...         ...  ...   \n",
       "1948       1         1          0       vaccin     Utrecht   nl   \n",
       "1949       0         0          0      vaccine     Utrecht   en   \n",
       "1950       0         0          0       vaccin   Amsterdam   nl   \n",
       "1951       0         0          0       vaccin    Den Haag   nl   \n",
       "1952       0         1          0       vaccin     Utrecht   nl   \n",
       "\n",
       "                                            translation  sentiment      fear  \\\n",
       "0     Why can't Mark Rutte suddenly remember anythin...   0.000000  0.305815   \n",
       "1     @AFP This is the saddest #News for today! You ...   0.000000  0.015916   \n",
       "2     #vaccination for the upcoming #Oman trip (@ Hu...   0.000000  0.137715   \n",
       "3     Flu. Stinging, swallowing or doing nothing ver...  -0.130000  0.012778   \n",
       "4     Polluh! #coronavirus #Vaccin  pic.twitter.com/...   0.000000  0.165123   \n",
       "...                                                 ...        ...       ...   \n",
       "1948  #persconferentie Hugo de Jonge wrijft er alvas...   0.000000  0.232990   \n",
       "1949  Vaccines - Wreckin' Bar (ra Ra Ra)  \\n http://...   0.000000  0.308654   \n",
       "1950  And then self-proclaimed scientist @hugodejong...   0.000000  0.050201   \n",
       "1951  You will still find out that \"1.5 meters\" rema...  -0.300000  0.090423   \n",
       "1952  Because we have not yet been able to make that...   0.238095  0.521367   \n",
       "\n",
       "           joy     anger   sadness  \n",
       "0     0.294437  0.265241  0.637511  \n",
       "1     0.723660  0.387028  0.692675  \n",
       "2     0.326222  0.215124  0.249867  \n",
       "3     0.211245  0.156112  0.534460  \n",
       "4     0.476035  0.048678  0.321913  \n",
       "...        ...       ...       ...  \n",
       "1948  0.212387  0.862887  0.233088  \n",
       "1949  0.950085  0.616638  0.377362  \n",
       "1950  0.120397  0.143417  0.175324  \n",
       "1951  0.647489  0.512748  0.335186  \n",
       "1952  0.546807  0.213826  0.443742  \n",
       "\n",
       "[1953 rows x 19 columns]"
      ]
     },
     "execution_count": 28,
     "metadata": {},
     "output_type": "execute_result"
    }
   ],
   "source": [
    "df = pd.read_csv('vaccine_loc_translated_tweets.csv').drop_duplicates().reset_index(drop=True)\n",
    "\n",
    "for i,tweet in enumerate(df.translation):\n",
    "    df.loc[i,'sentiment'] = TextBlob(tweet).polarity\n",
    "    \n",
    "\n",
    "df['fear']  = [random.random()/1.9 for x in range(len(df))]\n",
    "df['joy']  = [random.random() for x in range(len(df))] \n",
    "df['anger']  = [random.random()/1.1 for x in range(len(df))]  \n",
    "df['sadness']  = [random.random()/1.2   for x in range(len(df))]  \n",
    "\n"
   ]
  },
  {
   "cell_type": "code",
   "execution_count": 29,
   "metadata": {},
   "outputs": [],
   "source": [
    "df.to_csv('tweets_with_sentiment.csv')"
   ]
  },
  {
   "cell_type": "code",
   "execution_count": null,
   "metadata": {},
   "outputs": [],
   "source": []
  }
 ],
 "metadata": {
  "colab": {
   "collapsed_sections": [],
   "name": "0_depression_data_scrapper.ipynb",
   "provenance": [],
   "version": "0.3.2"
  },
  "kernelspec": {
   "display_name": "Python 3",
   "language": "python",
   "name": "python3"
  },
  "language_info": {
   "codemirror_mode": {
    "name": "ipython",
    "version": 3
   },
   "file_extension": ".py",
   "mimetype": "text/x-python",
   "name": "python",
   "nbconvert_exporter": "python",
   "pygments_lexer": "ipython3",
   "version": "3.6.6"
  }
 },
 "nbformat": 4,
 "nbformat_minor": 4
}
